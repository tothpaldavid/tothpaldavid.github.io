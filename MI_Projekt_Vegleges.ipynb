{
  "cells": [
    {
      "cell_type": "markdown",
      "metadata": {
        "id": "view-in-github",
        "colab_type": "text"
      },
      "source": [
        "<a href=\"https://colab.research.google.com/github/tothpaldavid/tothpaldavid.github.io/blob/main/MI_Projekt_Vegleges.ipynb\" target=\"_parent\"><img src=\"https://colab.research.google.com/assets/colab-badge.svg\" alt=\"Open In Colab\"/></a>"
      ]
    },
    {
      "cell_type": "markdown",
      "metadata": {
        "id": "fU-zbjQxTmQL"
      },
      "source": [
        "Cím, leírás"
      ]
    },
    {
      "cell_type": "code",
      "execution_count": 1,
      "metadata": {
        "id": "GOvYtCJPKPAv"
      },
      "outputs": [],
      "source": [
        "import pandas as pd"
      ]
    },
    {
      "cell_type": "markdown",
      "metadata": {
        "id": "Ay98cvv5TdWq"
      },
      "source": [
        "Adatok betöltése"
      ]
    },
    {
      "cell_type": "code",
      "execution_count": 2,
      "metadata": {
        "id": "0SUJ1H8LKgQR"
      },
      "outputs": [],
      "source": [
        "df_2024 = pd.read_excel('2024.xlsx')\n",
        "df_2022 = pd.read_csv('Copy of 2022.csv')\n",
        "df_2023 = pd.read_csv('Copy of 2023.csv')"
      ]
    },
    {
      "cell_type": "code",
      "execution_count": 3,
      "metadata": {
        "colab": {
          "base_uri": "https://localhost:8080/",
          "height": 308
        },
        "id": "8Juz_GtfCnv_",
        "outputId": "f0d79876-0c9d-4f6a-9698-383bb7e8af01"
      },
      "outputs": [
        {
          "output_type": "execute_result",
          "data": {
            "text/plain": [
              "      Unnamed: 0  Zsákmány  WhatsOn  WeSithek  Weedrák  WaTtaFák  Verbunk  \\\n",
              "0  Asztalitenisz        25       50        50       25        75       25   \n",
              "1      Beer-Pong        90      170        50       50        90       90   \n",
              "2    Bemutatkozó       128      120        75      225       208       42   \n",
              "3        Biliárd        20       30        30      100        20       20   \n",
              "4        Bogrács       106       85        90       93        98      101   \n",
              "\n",
              "   Vansör  Vá$örhely  UNI-GUNS  ...  BorÁszok  Beez-Mute  Beerluck  BEER-ka  \\\n",
              "0      50         75        75  ...        25        135        50      120   \n",
              "1      90         50       300  ...       130         50       170       50   \n",
              "2     213         25       342  ...        90        290       350      127   \n",
              "3      50         30        20  ...        40         40        20       20   \n",
              "4       0        116       145  ...        94        104        92      102   \n",
              "\n",
              "   Basszhattyúk  Anyukád kedvenc csapata  Anti-biUnicum  amitakartok  \\\n",
              "0            50                       50             50           25   \n",
              "1            50                       50             50           50   \n",
              "2            25                      188            112          242   \n",
              "3             0                       20             80           30   \n",
              "4             0                       69             81          122   \n",
              "\n",
              "   A Kocka Másik Oldala  ‘cuzGáz  \n",
              "0                   100       50  \n",
              "1                    90       90  \n",
              "2                    54       49  \n",
              "3                    40       30  \n",
              "4                   109      102  \n",
              "\n",
              "[5 rows x 52 columns]"
            ],
            "text/html": [
              "\n",
              "  <div id=\"df-1470aa4d-bd95-4d9c-994c-7e96bfb1ed8a\" class=\"colab-df-container\">\n",
              "    <div>\n",
              "<style scoped>\n",
              "    .dataframe tbody tr th:only-of-type {\n",
              "        vertical-align: middle;\n",
              "    }\n",
              "\n",
              "    .dataframe tbody tr th {\n",
              "        vertical-align: top;\n",
              "    }\n",
              "\n",
              "    .dataframe thead th {\n",
              "        text-align: right;\n",
              "    }\n",
              "</style>\n",
              "<table border=\"1\" class=\"dataframe\">\n",
              "  <thead>\n",
              "    <tr style=\"text-align: right;\">\n",
              "      <th></th>\n",
              "      <th>Unnamed: 0</th>\n",
              "      <th>Zsákmány</th>\n",
              "      <th>WhatsOn</th>\n",
              "      <th>WeSithek</th>\n",
              "      <th>Weedrák</th>\n",
              "      <th>WaTtaFák</th>\n",
              "      <th>Verbunk</th>\n",
              "      <th>Vansör</th>\n",
              "      <th>Vá$örhely</th>\n",
              "      <th>UNI-GUNS</th>\n",
              "      <th>...</th>\n",
              "      <th>BorÁszok</th>\n",
              "      <th>Beez-Mute</th>\n",
              "      <th>Beerluck</th>\n",
              "      <th>BEER-ka</th>\n",
              "      <th>Basszhattyúk</th>\n",
              "      <th>Anyukád kedvenc csapata</th>\n",
              "      <th>Anti-biUnicum</th>\n",
              "      <th>amitakartok</th>\n",
              "      <th>A Kocka Másik Oldala</th>\n",
              "      <th>‘cuzGáz</th>\n",
              "    </tr>\n",
              "  </thead>\n",
              "  <tbody>\n",
              "    <tr>\n",
              "      <th>0</th>\n",
              "      <td>Asztalitenisz</td>\n",
              "      <td>25</td>\n",
              "      <td>50</td>\n",
              "      <td>50</td>\n",
              "      <td>25</td>\n",
              "      <td>75</td>\n",
              "      <td>25</td>\n",
              "      <td>50</td>\n",
              "      <td>75</td>\n",
              "      <td>75</td>\n",
              "      <td>...</td>\n",
              "      <td>25</td>\n",
              "      <td>135</td>\n",
              "      <td>50</td>\n",
              "      <td>120</td>\n",
              "      <td>50</td>\n",
              "      <td>50</td>\n",
              "      <td>50</td>\n",
              "      <td>25</td>\n",
              "      <td>100</td>\n",
              "      <td>50</td>\n",
              "    </tr>\n",
              "    <tr>\n",
              "      <th>1</th>\n",
              "      <td>Beer-Pong</td>\n",
              "      <td>90</td>\n",
              "      <td>170</td>\n",
              "      <td>50</td>\n",
              "      <td>50</td>\n",
              "      <td>90</td>\n",
              "      <td>90</td>\n",
              "      <td>90</td>\n",
              "      <td>50</td>\n",
              "      <td>300</td>\n",
              "      <td>...</td>\n",
              "      <td>130</td>\n",
              "      <td>50</td>\n",
              "      <td>170</td>\n",
              "      <td>50</td>\n",
              "      <td>50</td>\n",
              "      <td>50</td>\n",
              "      <td>50</td>\n",
              "      <td>50</td>\n",
              "      <td>90</td>\n",
              "      <td>90</td>\n",
              "    </tr>\n",
              "    <tr>\n",
              "      <th>2</th>\n",
              "      <td>Bemutatkozó</td>\n",
              "      <td>128</td>\n",
              "      <td>120</td>\n",
              "      <td>75</td>\n",
              "      <td>225</td>\n",
              "      <td>208</td>\n",
              "      <td>42</td>\n",
              "      <td>213</td>\n",
              "      <td>25</td>\n",
              "      <td>342</td>\n",
              "      <td>...</td>\n",
              "      <td>90</td>\n",
              "      <td>290</td>\n",
              "      <td>350</td>\n",
              "      <td>127</td>\n",
              "      <td>25</td>\n",
              "      <td>188</td>\n",
              "      <td>112</td>\n",
              "      <td>242</td>\n",
              "      <td>54</td>\n",
              "      <td>49</td>\n",
              "    </tr>\n",
              "    <tr>\n",
              "      <th>3</th>\n",
              "      <td>Biliárd</td>\n",
              "      <td>20</td>\n",
              "      <td>30</td>\n",
              "      <td>30</td>\n",
              "      <td>100</td>\n",
              "      <td>20</td>\n",
              "      <td>20</td>\n",
              "      <td>50</td>\n",
              "      <td>30</td>\n",
              "      <td>20</td>\n",
              "      <td>...</td>\n",
              "      <td>40</td>\n",
              "      <td>40</td>\n",
              "      <td>20</td>\n",
              "      <td>20</td>\n",
              "      <td>0</td>\n",
              "      <td>20</td>\n",
              "      <td>80</td>\n",
              "      <td>30</td>\n",
              "      <td>40</td>\n",
              "      <td>30</td>\n",
              "    </tr>\n",
              "    <tr>\n",
              "      <th>4</th>\n",
              "      <td>Bogrács</td>\n",
              "      <td>106</td>\n",
              "      <td>85</td>\n",
              "      <td>90</td>\n",
              "      <td>93</td>\n",
              "      <td>98</td>\n",
              "      <td>101</td>\n",
              "      <td>0</td>\n",
              "      <td>116</td>\n",
              "      <td>145</td>\n",
              "      <td>...</td>\n",
              "      <td>94</td>\n",
              "      <td>104</td>\n",
              "      <td>92</td>\n",
              "      <td>102</td>\n",
              "      <td>0</td>\n",
              "      <td>69</td>\n",
              "      <td>81</td>\n",
              "      <td>122</td>\n",
              "      <td>109</td>\n",
              "      <td>102</td>\n",
              "    </tr>\n",
              "  </tbody>\n",
              "</table>\n",
              "<p>5 rows × 52 columns</p>\n",
              "</div>\n",
              "    <div class=\"colab-df-buttons\">\n",
              "\n",
              "  <div class=\"colab-df-container\">\n",
              "    <button class=\"colab-df-convert\" onclick=\"convertToInteractive('df-1470aa4d-bd95-4d9c-994c-7e96bfb1ed8a')\"\n",
              "            title=\"Convert this dataframe to an interactive table.\"\n",
              "            style=\"display:none;\">\n",
              "\n",
              "  <svg xmlns=\"http://www.w3.org/2000/svg\" height=\"24px\" viewBox=\"0 -960 960 960\">\n",
              "    <path d=\"M120-120v-720h720v720H120Zm60-500h600v-160H180v160Zm220 220h160v-160H400v160Zm0 220h160v-160H400v160ZM180-400h160v-160H180v160Zm440 0h160v-160H620v160ZM180-180h160v-160H180v160Zm440 0h160v-160H620v160Z\"/>\n",
              "  </svg>\n",
              "    </button>\n",
              "\n",
              "  <style>\n",
              "    .colab-df-container {\n",
              "      display:flex;\n",
              "      gap: 12px;\n",
              "    }\n",
              "\n",
              "    .colab-df-convert {\n",
              "      background-color: #E8F0FE;\n",
              "      border: none;\n",
              "      border-radius: 50%;\n",
              "      cursor: pointer;\n",
              "      display: none;\n",
              "      fill: #1967D2;\n",
              "      height: 32px;\n",
              "      padding: 0 0 0 0;\n",
              "      width: 32px;\n",
              "    }\n",
              "\n",
              "    .colab-df-convert:hover {\n",
              "      background-color: #E2EBFA;\n",
              "      box-shadow: 0px 1px 2px rgba(60, 64, 67, 0.3), 0px 1px 3px 1px rgba(60, 64, 67, 0.15);\n",
              "      fill: #174EA6;\n",
              "    }\n",
              "\n",
              "    .colab-df-buttons div {\n",
              "      margin-bottom: 4px;\n",
              "    }\n",
              "\n",
              "    [theme=dark] .colab-df-convert {\n",
              "      background-color: #3B4455;\n",
              "      fill: #D2E3FC;\n",
              "    }\n",
              "\n",
              "    [theme=dark] .colab-df-convert:hover {\n",
              "      background-color: #434B5C;\n",
              "      box-shadow: 0px 1px 3px 1px rgba(0, 0, 0, 0.15);\n",
              "      filter: drop-shadow(0px 1px 2px rgba(0, 0, 0, 0.3));\n",
              "      fill: #FFFFFF;\n",
              "    }\n",
              "  </style>\n",
              "\n",
              "    <script>\n",
              "      const buttonEl =\n",
              "        document.querySelector('#df-1470aa4d-bd95-4d9c-994c-7e96bfb1ed8a button.colab-df-convert');\n",
              "      buttonEl.style.display =\n",
              "        google.colab.kernel.accessAllowed ? 'block' : 'none';\n",
              "\n",
              "      async function convertToInteractive(key) {\n",
              "        const element = document.querySelector('#df-1470aa4d-bd95-4d9c-994c-7e96bfb1ed8a');\n",
              "        const dataTable =\n",
              "          await google.colab.kernel.invokeFunction('convertToInteractive',\n",
              "                                                    [key], {});\n",
              "        if (!dataTable) return;\n",
              "\n",
              "        const docLinkHtml = 'Like what you see? Visit the ' +\n",
              "          '<a target=\"_blank\" href=https://colab.research.google.com/notebooks/data_table.ipynb>data table notebook</a>'\n",
              "          + ' to learn more about interactive tables.';\n",
              "        element.innerHTML = '';\n",
              "        dataTable['output_type'] = 'display_data';\n",
              "        await google.colab.output.renderOutput(dataTable, element);\n",
              "        const docLink = document.createElement('div');\n",
              "        docLink.innerHTML = docLinkHtml;\n",
              "        element.appendChild(docLink);\n",
              "      }\n",
              "    </script>\n",
              "  </div>\n",
              "\n",
              "\n",
              "<div id=\"df-8a30f7dd-1d0c-4d75-9009-26630761e565\">\n",
              "  <button class=\"colab-df-quickchart\" onclick=\"quickchart('df-8a30f7dd-1d0c-4d75-9009-26630761e565')\"\n",
              "            title=\"Suggest charts\"\n",
              "            style=\"display:none;\">\n",
              "\n",
              "<svg xmlns=\"http://www.w3.org/2000/svg\" height=\"24px\"viewBox=\"0 0 24 24\"\n",
              "     width=\"24px\">\n",
              "    <g>\n",
              "        <path d=\"M19 3H5c-1.1 0-2 .9-2 2v14c0 1.1.9 2 2 2h14c1.1 0 2-.9 2-2V5c0-1.1-.9-2-2-2zM9 17H7v-7h2v7zm4 0h-2V7h2v10zm4 0h-2v-4h2v4z\"/>\n",
              "    </g>\n",
              "</svg>\n",
              "  </button>\n",
              "\n",
              "<style>\n",
              "  .colab-df-quickchart {\n",
              "      --bg-color: #E8F0FE;\n",
              "      --fill-color: #1967D2;\n",
              "      --hover-bg-color: #E2EBFA;\n",
              "      --hover-fill-color: #174EA6;\n",
              "      --disabled-fill-color: #AAA;\n",
              "      --disabled-bg-color: #DDD;\n",
              "  }\n",
              "\n",
              "  [theme=dark] .colab-df-quickchart {\n",
              "      --bg-color: #3B4455;\n",
              "      --fill-color: #D2E3FC;\n",
              "      --hover-bg-color: #434B5C;\n",
              "      --hover-fill-color: #FFFFFF;\n",
              "      --disabled-bg-color: #3B4455;\n",
              "      --disabled-fill-color: #666;\n",
              "  }\n",
              "\n",
              "  .colab-df-quickchart {\n",
              "    background-color: var(--bg-color);\n",
              "    border: none;\n",
              "    border-radius: 50%;\n",
              "    cursor: pointer;\n",
              "    display: none;\n",
              "    fill: var(--fill-color);\n",
              "    height: 32px;\n",
              "    padding: 0;\n",
              "    width: 32px;\n",
              "  }\n",
              "\n",
              "  .colab-df-quickchart:hover {\n",
              "    background-color: var(--hover-bg-color);\n",
              "    box-shadow: 0 1px 2px rgba(60, 64, 67, 0.3), 0 1px 3px 1px rgba(60, 64, 67, 0.15);\n",
              "    fill: var(--button-hover-fill-color);\n",
              "  }\n",
              "\n",
              "  .colab-df-quickchart-complete:disabled,\n",
              "  .colab-df-quickchart-complete:disabled:hover {\n",
              "    background-color: var(--disabled-bg-color);\n",
              "    fill: var(--disabled-fill-color);\n",
              "    box-shadow: none;\n",
              "  }\n",
              "\n",
              "  .colab-df-spinner {\n",
              "    border: 2px solid var(--fill-color);\n",
              "    border-color: transparent;\n",
              "    border-bottom-color: var(--fill-color);\n",
              "    animation:\n",
              "      spin 1s steps(1) infinite;\n",
              "  }\n",
              "\n",
              "  @keyframes spin {\n",
              "    0% {\n",
              "      border-color: transparent;\n",
              "      border-bottom-color: var(--fill-color);\n",
              "      border-left-color: var(--fill-color);\n",
              "    }\n",
              "    20% {\n",
              "      border-color: transparent;\n",
              "      border-left-color: var(--fill-color);\n",
              "      border-top-color: var(--fill-color);\n",
              "    }\n",
              "    30% {\n",
              "      border-color: transparent;\n",
              "      border-left-color: var(--fill-color);\n",
              "      border-top-color: var(--fill-color);\n",
              "      border-right-color: var(--fill-color);\n",
              "    }\n",
              "    40% {\n",
              "      border-color: transparent;\n",
              "      border-right-color: var(--fill-color);\n",
              "      border-top-color: var(--fill-color);\n",
              "    }\n",
              "    60% {\n",
              "      border-color: transparent;\n",
              "      border-right-color: var(--fill-color);\n",
              "    }\n",
              "    80% {\n",
              "      border-color: transparent;\n",
              "      border-right-color: var(--fill-color);\n",
              "      border-bottom-color: var(--fill-color);\n",
              "    }\n",
              "    90% {\n",
              "      border-color: transparent;\n",
              "      border-bottom-color: var(--fill-color);\n",
              "    }\n",
              "  }\n",
              "</style>\n",
              "\n",
              "  <script>\n",
              "    async function quickchart(key) {\n",
              "      const quickchartButtonEl =\n",
              "        document.querySelector('#' + key + ' button');\n",
              "      quickchartButtonEl.disabled = true;  // To prevent multiple clicks.\n",
              "      quickchartButtonEl.classList.add('colab-df-spinner');\n",
              "      try {\n",
              "        const charts = await google.colab.kernel.invokeFunction(\n",
              "            'suggestCharts', [key], {});\n",
              "      } catch (error) {\n",
              "        console.error('Error during call to suggestCharts:', error);\n",
              "      }\n",
              "      quickchartButtonEl.classList.remove('colab-df-spinner');\n",
              "      quickchartButtonEl.classList.add('colab-df-quickchart-complete');\n",
              "    }\n",
              "    (() => {\n",
              "      let quickchartButtonEl =\n",
              "        document.querySelector('#df-8a30f7dd-1d0c-4d75-9009-26630761e565 button');\n",
              "      quickchartButtonEl.style.display =\n",
              "        google.colab.kernel.accessAllowed ? 'block' : 'none';\n",
              "    })();\n",
              "  </script>\n",
              "</div>\n",
              "    </div>\n",
              "  </div>\n"
            ],
            "application/vnd.google.colaboratory.intrinsic+json": {
              "type": "dataframe",
              "variable_name": "df_2022"
            }
          },
          "metadata": {},
          "execution_count": 3
        }
      ],
      "source": [
        "df_2022.head()"
      ]
    },
    {
      "cell_type": "markdown",
      "metadata": {
        "id": "EIW6M8IlTrEs"
      },
      "source": [
        "2022 és 2023-as adat transzponálása és index hozzáadása 'Unnamed: 0' helyett"
      ]
    },
    {
      "cell_type": "code",
      "execution_count": 4,
      "metadata": {
        "id": "pstSS_slk5Ys"
      },
      "outputs": [],
      "source": [
        "df_2022 = df_2022.set_index('Unnamed: 0').T.reset_index()\n",
        "df_2023 = df_2023.set_index('Unnamed: 0').T.reset_index()"
      ]
    },
    {
      "cell_type": "code",
      "execution_count": 5,
      "metadata": {
        "colab": {
          "base_uri": "https://localhost:8080/"
        },
        "id": "h-7Me2zQvv6c",
        "outputId": "76c89225-516d-4252-9504-7efcc62cd42b"
      },
      "outputs": [
        {
          "output_type": "stream",
          "name": "stdout",
          "text": [
            "['CSAPATNÉV', 'ÖSSZESEN', 'ASZTALITENISZ', 'BEER-PONG', 'BEMUTATKOZÓ', 'BILIÁRD', 'BOGRÁCS', 'BOLC', 'CHANDELIER', 'CHEST - PONG', 'CITY TOUR', 'COOLTÚRA', 'CSOCSÓ', 'DANCE BATTLE', 'EROTIK', 'FÉRFI FOCI', 'FOTÓMARATON', 'JENGA', 'KARAOKE', 'KÉZILABDA', 'KLÁN-TOUR', 'KLÁN-TOUR NIGHT', 'KOSÁRLABDA', 'KULTÚRMARATON', 'MÉTA', 'NÉPTÁNC', 'NŐI FOCI', 'PC:CS 2', 'PC:LOL', 'PÓKER', 'RÖPI', 'SAKK', 'SLAM', 'STAFÉTA', 'SZEMÉTSZEDÉS', 'TÁBLÉ', 'TÁNCMARATON', 'ÚSZÁS']\n",
            "['index', 'Asztalitenisz', 'Beer-Pong', 'Bemutatkozó', 'Biliárd', 'Bogrács', 'Bolc', 'Chandelier', 'Chest-Pong', 'City Tour', 'Cooltúra', 'CS:GO', 'Csocsó', 'Dance Battle', 'Erotik', 'Férfi foci', 'Fotómaraton', 'Jenga', 'Karaoke', 'Kézilabda', 'Klán-Tour', 'Klán-Tour Night', 'Kosárlabda', 'Kultúrmaraton', 'LOL', 'Méta', 'Néptánc', 'Női foci', 'Póker', 'Röpi', 'Sakk', 'Slam', 'Staféta', 'Táblé', 'Táncmaraton', 'Úszás', 'Összesen']\n",
            "['index', 'Asztalitenisz', 'Beer-Pong', 'Bemutatkozó', 'Biliárd', 'Bogrács', 'Bolc', 'Chandelier', 'Chest-Pong', 'City Tour', 'Cooltúra', 'CS:GO', 'Csocsó', 'Dance Battle', 'Erotik', 'Férfi foci', 'Fotómaraton', 'Jenga', 'Karaoke', 'Kézilabda', 'Klán-Tour', 'Klán-Tour Night', 'Kosárlabda', 'Kultúrmaraton', 'LOL', 'Méta', 'Néptánc', 'Női foci', 'Póker', 'Röplabda', 'Sakk', 'Slam Poetry', 'Staféta', 'Táblé', 'Táncmaraton', 'Úszás', 'Összesen']\n"
          ]
        }
      ],
      "source": [
        "print(df_2024.columns.tolist())\n",
        "print(df_2022.columns.tolist())\n",
        "print(df_2023.columns.tolist())"
      ]
    },
    {
      "cell_type": "markdown",
      "metadata": {
        "id": "_gN3JCDkT812"
      },
      "source": [
        "Mindegyik oszlopnév nagybetűsítése"
      ]
    },
    {
      "cell_type": "code",
      "execution_count": 6,
      "metadata": {
        "id": "Cc4ODk3Xnql2"
      },
      "outputs": [],
      "source": [
        "# Csapatok és próbák - uppercase\n",
        "df_2024.columns = [col.upper() for col in df_2024.columns]\n",
        "df_2024 = df_2024.applymap(lambda x: x.upper() if type(x) == str else x)\n",
        "\n",
        "df_2022.columns = [col.upper() for col in df_2022.columns]\n",
        "df_2022 = df_2022.applymap(lambda x: x.upper() if type(x) == str else x)\n",
        "\n",
        "df_2023.columns = [col.upper() for col in df_2023.columns]\n",
        "df_2023 = df_2023.applymap(lambda x: x.upper() if type(x) == str else x)"
      ]
    },
    {
      "cell_type": "code",
      "execution_count": 7,
      "metadata": {
        "id": "_xYfHBiloCX9"
      },
      "outputs": [],
      "source": [
        "df_2022.rename(columns={'INDEX': 'CSAPATNÉV'}, inplace=True)\n",
        "df_2023.rename(columns={'INDEX': 'CSAPATNÉV'}, inplace=True)"
      ]
    },
    {
      "cell_type": "code",
      "source": [
        "# df_2023['CSAPATNÉV'] = [csapat.upper() for csapat in df_2023['CSAPATNÉV']]\n",
        "# df_2023['CSAPATNÉV'].str.upper()"
      ],
      "metadata": {
        "id": "6kBERsePDxkN"
      },
      "execution_count": 8,
      "outputs": []
    },
    {
      "cell_type": "code",
      "execution_count": 9,
      "metadata": {
        "colab": {
          "base_uri": "https://localhost:8080/",
          "height": 179
        },
        "id": "DDLKcc-sCnwE",
        "outputId": "16062b4b-33d4-404d-ded7-fab5e12896aa"
      },
      "outputs": [
        {
          "output_type": "execute_result",
          "data": {
            "text/plain": [
              "  CSAPATNÉV  ASZTALITENISZ  BEER-PONG  BEMUTATKOZÓ  BILIÁRD  BOGRÁCS  BOLC  \\\n",
              "0  ZSÁKMÁNY             25         90          128       20      106   155   \n",
              "1   WHATSON             50        170          120       30       85    46   \n",
              "\n",
              "   CHANDELIER  CHEST-PONG  CITY TOUR  ...  NŐI FOCI  PÓKER  RÖPI  SAKK  SLAM  \\\n",
              "0          60          50        247  ...        50     25    50    40   177   \n",
              "1          70          90        147  ...        50     30    70    40   145   \n",
              "\n",
              "   STAFÉTA  TÁBLÉ  TÁNCMARATON  ÚSZÁS  ÖSSZESEN  \n",
              "0      122     30          342    102      3644  \n",
              "1       58     50          171     72      3180  \n",
              "\n",
              "[2 rows x 37 columns]"
            ],
            "text/html": [
              "\n",
              "  <div id=\"df-2a68aea7-a7d6-47d7-b662-9ad2a1b13ad2\" class=\"colab-df-container\">\n",
              "    <div>\n",
              "<style scoped>\n",
              "    .dataframe tbody tr th:only-of-type {\n",
              "        vertical-align: middle;\n",
              "    }\n",
              "\n",
              "    .dataframe tbody tr th {\n",
              "        vertical-align: top;\n",
              "    }\n",
              "\n",
              "    .dataframe thead th {\n",
              "        text-align: right;\n",
              "    }\n",
              "</style>\n",
              "<table border=\"1\" class=\"dataframe\">\n",
              "  <thead>\n",
              "    <tr style=\"text-align: right;\">\n",
              "      <th></th>\n",
              "      <th>CSAPATNÉV</th>\n",
              "      <th>ASZTALITENISZ</th>\n",
              "      <th>BEER-PONG</th>\n",
              "      <th>BEMUTATKOZÓ</th>\n",
              "      <th>BILIÁRD</th>\n",
              "      <th>BOGRÁCS</th>\n",
              "      <th>BOLC</th>\n",
              "      <th>CHANDELIER</th>\n",
              "      <th>CHEST-PONG</th>\n",
              "      <th>CITY TOUR</th>\n",
              "      <th>...</th>\n",
              "      <th>NŐI FOCI</th>\n",
              "      <th>PÓKER</th>\n",
              "      <th>RÖPI</th>\n",
              "      <th>SAKK</th>\n",
              "      <th>SLAM</th>\n",
              "      <th>STAFÉTA</th>\n",
              "      <th>TÁBLÉ</th>\n",
              "      <th>TÁNCMARATON</th>\n",
              "      <th>ÚSZÁS</th>\n",
              "      <th>ÖSSZESEN</th>\n",
              "    </tr>\n",
              "  </thead>\n",
              "  <tbody>\n",
              "    <tr>\n",
              "      <th>0</th>\n",
              "      <td>ZSÁKMÁNY</td>\n",
              "      <td>25</td>\n",
              "      <td>90</td>\n",
              "      <td>128</td>\n",
              "      <td>20</td>\n",
              "      <td>106</td>\n",
              "      <td>155</td>\n",
              "      <td>60</td>\n",
              "      <td>50</td>\n",
              "      <td>247</td>\n",
              "      <td>...</td>\n",
              "      <td>50</td>\n",
              "      <td>25</td>\n",
              "      <td>50</td>\n",
              "      <td>40</td>\n",
              "      <td>177</td>\n",
              "      <td>122</td>\n",
              "      <td>30</td>\n",
              "      <td>342</td>\n",
              "      <td>102</td>\n",
              "      <td>3644</td>\n",
              "    </tr>\n",
              "    <tr>\n",
              "      <th>1</th>\n",
              "      <td>WHATSON</td>\n",
              "      <td>50</td>\n",
              "      <td>170</td>\n",
              "      <td>120</td>\n",
              "      <td>30</td>\n",
              "      <td>85</td>\n",
              "      <td>46</td>\n",
              "      <td>70</td>\n",
              "      <td>90</td>\n",
              "      <td>147</td>\n",
              "      <td>...</td>\n",
              "      <td>50</td>\n",
              "      <td>30</td>\n",
              "      <td>70</td>\n",
              "      <td>40</td>\n",
              "      <td>145</td>\n",
              "      <td>58</td>\n",
              "      <td>50</td>\n",
              "      <td>171</td>\n",
              "      <td>72</td>\n",
              "      <td>3180</td>\n",
              "    </tr>\n",
              "  </tbody>\n",
              "</table>\n",
              "<p>2 rows × 37 columns</p>\n",
              "</div>\n",
              "    <div class=\"colab-df-buttons\">\n",
              "\n",
              "  <div class=\"colab-df-container\">\n",
              "    <button class=\"colab-df-convert\" onclick=\"convertToInteractive('df-2a68aea7-a7d6-47d7-b662-9ad2a1b13ad2')\"\n",
              "            title=\"Convert this dataframe to an interactive table.\"\n",
              "            style=\"display:none;\">\n",
              "\n",
              "  <svg xmlns=\"http://www.w3.org/2000/svg\" height=\"24px\" viewBox=\"0 -960 960 960\">\n",
              "    <path d=\"M120-120v-720h720v720H120Zm60-500h600v-160H180v160Zm220 220h160v-160H400v160Zm0 220h160v-160H400v160ZM180-400h160v-160H180v160Zm440 0h160v-160H620v160ZM180-180h160v-160H180v160Zm440 0h160v-160H620v160Z\"/>\n",
              "  </svg>\n",
              "    </button>\n",
              "\n",
              "  <style>\n",
              "    .colab-df-container {\n",
              "      display:flex;\n",
              "      gap: 12px;\n",
              "    }\n",
              "\n",
              "    .colab-df-convert {\n",
              "      background-color: #E8F0FE;\n",
              "      border: none;\n",
              "      border-radius: 50%;\n",
              "      cursor: pointer;\n",
              "      display: none;\n",
              "      fill: #1967D2;\n",
              "      height: 32px;\n",
              "      padding: 0 0 0 0;\n",
              "      width: 32px;\n",
              "    }\n",
              "\n",
              "    .colab-df-convert:hover {\n",
              "      background-color: #E2EBFA;\n",
              "      box-shadow: 0px 1px 2px rgba(60, 64, 67, 0.3), 0px 1px 3px 1px rgba(60, 64, 67, 0.15);\n",
              "      fill: #174EA6;\n",
              "    }\n",
              "\n",
              "    .colab-df-buttons div {\n",
              "      margin-bottom: 4px;\n",
              "    }\n",
              "\n",
              "    [theme=dark] .colab-df-convert {\n",
              "      background-color: #3B4455;\n",
              "      fill: #D2E3FC;\n",
              "    }\n",
              "\n",
              "    [theme=dark] .colab-df-convert:hover {\n",
              "      background-color: #434B5C;\n",
              "      box-shadow: 0px 1px 3px 1px rgba(0, 0, 0, 0.15);\n",
              "      filter: drop-shadow(0px 1px 2px rgba(0, 0, 0, 0.3));\n",
              "      fill: #FFFFFF;\n",
              "    }\n",
              "  </style>\n",
              "\n",
              "    <script>\n",
              "      const buttonEl =\n",
              "        document.querySelector('#df-2a68aea7-a7d6-47d7-b662-9ad2a1b13ad2 button.colab-df-convert');\n",
              "      buttonEl.style.display =\n",
              "        google.colab.kernel.accessAllowed ? 'block' : 'none';\n",
              "\n",
              "      async function convertToInteractive(key) {\n",
              "        const element = document.querySelector('#df-2a68aea7-a7d6-47d7-b662-9ad2a1b13ad2');\n",
              "        const dataTable =\n",
              "          await google.colab.kernel.invokeFunction('convertToInteractive',\n",
              "                                                    [key], {});\n",
              "        if (!dataTable) return;\n",
              "\n",
              "        const docLinkHtml = 'Like what you see? Visit the ' +\n",
              "          '<a target=\"_blank\" href=https://colab.research.google.com/notebooks/data_table.ipynb>data table notebook</a>'\n",
              "          + ' to learn more about interactive tables.';\n",
              "        element.innerHTML = '';\n",
              "        dataTable['output_type'] = 'display_data';\n",
              "        await google.colab.output.renderOutput(dataTable, element);\n",
              "        const docLink = document.createElement('div');\n",
              "        docLink.innerHTML = docLinkHtml;\n",
              "        element.appendChild(docLink);\n",
              "      }\n",
              "    </script>\n",
              "  </div>\n",
              "\n",
              "\n",
              "<div id=\"df-ff07eb39-3abd-4f00-9c3c-70d3369f0a5a\">\n",
              "  <button class=\"colab-df-quickchart\" onclick=\"quickchart('df-ff07eb39-3abd-4f00-9c3c-70d3369f0a5a')\"\n",
              "            title=\"Suggest charts\"\n",
              "            style=\"display:none;\">\n",
              "\n",
              "<svg xmlns=\"http://www.w3.org/2000/svg\" height=\"24px\"viewBox=\"0 0 24 24\"\n",
              "     width=\"24px\">\n",
              "    <g>\n",
              "        <path d=\"M19 3H5c-1.1 0-2 .9-2 2v14c0 1.1.9 2 2 2h14c1.1 0 2-.9 2-2V5c0-1.1-.9-2-2-2zM9 17H7v-7h2v7zm4 0h-2V7h2v10zm4 0h-2v-4h2v4z\"/>\n",
              "    </g>\n",
              "</svg>\n",
              "  </button>\n",
              "\n",
              "<style>\n",
              "  .colab-df-quickchart {\n",
              "      --bg-color: #E8F0FE;\n",
              "      --fill-color: #1967D2;\n",
              "      --hover-bg-color: #E2EBFA;\n",
              "      --hover-fill-color: #174EA6;\n",
              "      --disabled-fill-color: #AAA;\n",
              "      --disabled-bg-color: #DDD;\n",
              "  }\n",
              "\n",
              "  [theme=dark] .colab-df-quickchart {\n",
              "      --bg-color: #3B4455;\n",
              "      --fill-color: #D2E3FC;\n",
              "      --hover-bg-color: #434B5C;\n",
              "      --hover-fill-color: #FFFFFF;\n",
              "      --disabled-bg-color: #3B4455;\n",
              "      --disabled-fill-color: #666;\n",
              "  }\n",
              "\n",
              "  .colab-df-quickchart {\n",
              "    background-color: var(--bg-color);\n",
              "    border: none;\n",
              "    border-radius: 50%;\n",
              "    cursor: pointer;\n",
              "    display: none;\n",
              "    fill: var(--fill-color);\n",
              "    height: 32px;\n",
              "    padding: 0;\n",
              "    width: 32px;\n",
              "  }\n",
              "\n",
              "  .colab-df-quickchart:hover {\n",
              "    background-color: var(--hover-bg-color);\n",
              "    box-shadow: 0 1px 2px rgba(60, 64, 67, 0.3), 0 1px 3px 1px rgba(60, 64, 67, 0.15);\n",
              "    fill: var(--button-hover-fill-color);\n",
              "  }\n",
              "\n",
              "  .colab-df-quickchart-complete:disabled,\n",
              "  .colab-df-quickchart-complete:disabled:hover {\n",
              "    background-color: var(--disabled-bg-color);\n",
              "    fill: var(--disabled-fill-color);\n",
              "    box-shadow: none;\n",
              "  }\n",
              "\n",
              "  .colab-df-spinner {\n",
              "    border: 2px solid var(--fill-color);\n",
              "    border-color: transparent;\n",
              "    border-bottom-color: var(--fill-color);\n",
              "    animation:\n",
              "      spin 1s steps(1) infinite;\n",
              "  }\n",
              "\n",
              "  @keyframes spin {\n",
              "    0% {\n",
              "      border-color: transparent;\n",
              "      border-bottom-color: var(--fill-color);\n",
              "      border-left-color: var(--fill-color);\n",
              "    }\n",
              "    20% {\n",
              "      border-color: transparent;\n",
              "      border-left-color: var(--fill-color);\n",
              "      border-top-color: var(--fill-color);\n",
              "    }\n",
              "    30% {\n",
              "      border-color: transparent;\n",
              "      border-left-color: var(--fill-color);\n",
              "      border-top-color: var(--fill-color);\n",
              "      border-right-color: var(--fill-color);\n",
              "    }\n",
              "    40% {\n",
              "      border-color: transparent;\n",
              "      border-right-color: var(--fill-color);\n",
              "      border-top-color: var(--fill-color);\n",
              "    }\n",
              "    60% {\n",
              "      border-color: transparent;\n",
              "      border-right-color: var(--fill-color);\n",
              "    }\n",
              "    80% {\n",
              "      border-color: transparent;\n",
              "      border-right-color: var(--fill-color);\n",
              "      border-bottom-color: var(--fill-color);\n",
              "    }\n",
              "    90% {\n",
              "      border-color: transparent;\n",
              "      border-bottom-color: var(--fill-color);\n",
              "    }\n",
              "  }\n",
              "</style>\n",
              "\n",
              "  <script>\n",
              "    async function quickchart(key) {\n",
              "      const quickchartButtonEl =\n",
              "        document.querySelector('#' + key + ' button');\n",
              "      quickchartButtonEl.disabled = true;  // To prevent multiple clicks.\n",
              "      quickchartButtonEl.classList.add('colab-df-spinner');\n",
              "      try {\n",
              "        const charts = await google.colab.kernel.invokeFunction(\n",
              "            'suggestCharts', [key], {});\n",
              "      } catch (error) {\n",
              "        console.error('Error during call to suggestCharts:', error);\n",
              "      }\n",
              "      quickchartButtonEl.classList.remove('colab-df-spinner');\n",
              "      quickchartButtonEl.classList.add('colab-df-quickchart-complete');\n",
              "    }\n",
              "    (() => {\n",
              "      let quickchartButtonEl =\n",
              "        document.querySelector('#df-ff07eb39-3abd-4f00-9c3c-70d3369f0a5a button');\n",
              "      quickchartButtonEl.style.display =\n",
              "        google.colab.kernel.accessAllowed ? 'block' : 'none';\n",
              "    })();\n",
              "  </script>\n",
              "</div>\n",
              "    </div>\n",
              "  </div>\n"
            ],
            "application/vnd.google.colaboratory.intrinsic+json": {
              "type": "dataframe",
              "variable_name": "df_2022"
            }
          },
          "metadata": {},
          "execution_count": 9
        }
      ],
      "source": [
        "df_2022.head(2)"
      ]
    },
    {
      "cell_type": "markdown",
      "metadata": {
        "id": "cUIaGAe5UD9l"
      },
      "source": [
        "Csapatnevek hasonló formára való hozása"
      ]
    },
    {
      "cell_type": "code",
      "execution_count": 10,
      "metadata": {
        "id": "lGOqonvqosLG"
      },
      "outputs": [],
      "source": [
        "df_2024['CSAPATNÉV'] = df_2024['CSAPATNÉV'].str.replace(r'^\\d+\\.\\s*', '', regex=True)"
      ]
    },
    {
      "cell_type": "code",
      "execution_count": 11,
      "metadata": {
        "colab": {
          "base_uri": "https://localhost:8080/"
        },
        "id": "N6zb7ramk_WD",
        "outputId": "385831a8-584b-4773-8235-de57bac53fb7"
      },
      "outputs": [
        {
          "output_type": "stream",
          "name": "stdout",
          "text": [
            "['ZSÁKMÁNY', 'WHATSON', 'WESITHEK', 'WEEDRÁK', 'WATTAFÁK', 'VERBUNK', 'VANSÖR', 'VÁ$ÖRHELY', 'UNI-GUNS', 'Ű-BEER', 'SZŰRT', 'SZESZKIMÓK', 'SZESZESÚJVÁR', 'SZESCOBAR', 'SZERVEZTEM', 'SÖRÖS-TERV', 'SHAKESBEER', \"S'TUDJA\", 'ROXTARROK', 'RÁMSZESZ', 'QUASALO', 'POPÓLOPÓK', 'MURATÚRA', 'MOZGÉKONYAK', 'ME OF US ONE', 'MAGYAR SZISZTEM', 'KÓMA-SZUTRA', 'K.O.SER', 'JAZZEMEG', 'IN-TEAM', 'IGNORE', 'GENITÁLIA', 'FUCKTÚRA', 'FEHÉRLÓPIA', \"DRUNKIN' DONUTS\", 'DIAKNAPOS CSAPAT', 'DEVASTATION', 'CUM WITH US', 'CHEEKY-SHARE', 'CHEEKLOW', 'BÚVÁRMEDVÉK', 'BORÁSZOK', 'BEEZ-MUTE', 'BEERLUCK', 'BEER-KA', 'BASSZHATTYÚK', 'ANYUKÁD KEDVENC CSAPATA', 'ANTI-BIUNICUM', 'AMITAKARTOK', 'A KOCKA MÁSIK OLDALA', '‘CUZGÁZ']\n",
            "['KOMA-SZUTRA', 'GENITÁLIA', 'FUCKTÚRA', 'BEEZ-MUTE', 'VÁ$ÖRHELY', 'SHAKESBEER', 'UNI-GUNS', 'MOZGÉKONYAK', 'CUM WITH US', 'SZESZKIMÓK', 'BEERLUCK', 'BÚVÁRMEDVÉK', 'CHEEKLOW', 'SÖRNYETEGEK', 'ZSÁKMÁNY', 'SZERVEZTEM', 'ME OF US ONE', 'MAGYAR SZISZTEM', 'A KOCKA MÁSIK OLDALA', 'IN-TEAM', 'SZESZESÚJVÁR', 'Ű-BEER', \".S!C'R\", 'WATTAFÁK', 'WHATSON', 'WESITHEK', 'VÁ$ÖRH\\x80LYOLÉÉÉ', 'K.O.SER', 'HÖKÖL', 'BIOLORGIA', 'WEEDRÁK', 'VERBUNK', 'STROHGEREK', 'PRODUCKTIVE', 'FEHÉRLÓPHIA', 'BORÁSZOK', 'SZŰRT', 'POPÓLOPÓK', 'MURATÚRA', 'GINSTABIL', 'IGNORE', 'BASSZHATTYÚK', 'VANSÖR', 'SÖRÖS-TERV', 'BEER-KA', 'BARÁTOCOOL', 'RÁMSZESZ', 'AMITAKARTOK', 'COLABORÉSÖN', 'DURGOLAX', 'CHEEKY-SHARE', 'N@FING', 'ABSZOLÚT', 'DIAKNAPOS CSAPAT', 'MAD DOGS', \"DRUNKIN' DONUTS\", 'LEMONARCHIA', 'FRÖCCSÖGÖK', 'ETILALAKULAT', 'ROXTARROK', 'MEGBORULUNK', 'SZESCOBAR']\n",
            "[\"S'TUDJA\", 'GENITÁLIA', 'UNI-GUNS', 'SÖRNYETEGEK', 'SHAKESBEER', 'FUCKTÚRA', 'ME OF US ONE', 'CHEEKLOW', 'KOMA-SZUTRA', 'BEEZ-MUTE', 'VÁ$ÖRHELY', 'K.O.SER', 'MOZGÉKONYAK', 'PUSSYLVA', 'ZSÁKMÁNY', 'Ű-BEER', 'STROHGEREK', \".S!C'R\", 'BEER-KA', 'BÚVÁRMEDVÉK', 'WESITHEK', 'VÁ$ÖRHELYOLÉÉÉ', 'ANYUKÁD KEDVENC CSAPATA', 'SZERVEZTEM', 'SZESZKIMÓK', 'BEERLUCK', 'A KOCKA MÁSIK OLDALA', \"DRUNKIN' DONUTS\", 'IN-TEAM', 'MAGYAR SZISZTEM', 'FRÖCCSÖGÖK', 'CUM WITH US', 'WATTAFÁK', 'VERBUNK', 'ART-ISZTOK', 'ABSZOLÚT', 'HUPIKÉK SÖRIKÉK', 'WHATSON', 'TEQUILA TIGRISEK', 'MURATURA', 'BASSZHATTYÚK', 'HÖKÖL', 'FEHÉRLÓPHIA', 'BIOLORGIA', 'RÁMSZESZ', 'SÖRÖS-TERV', 'BORÁSZOK', 'N@FING', 'MAD DOGS', 'KOMLÓSHOCK', 'CHEEKY-SHARE', 'ETILALAKULAT', 'WEEDRÁK', 'DURGOLAX', 'BULI-GUNS', 'AMITAKARTOK', 'ROXTARROK', 'IGNORE', 'MEGBORULUNK', 'COLABORÉSÖN', 'DIAKNAPOS CSAPAT', 'LEMONARCHIA', 'BARÁTOCOOL', 'SZESCOBAR']\n"
          ]
        }
      ],
      "source": [
        "print(df_2022['CSAPATNÉV'].tolist())\n",
        "print(df_2023['CSAPATNÉV'].tolist())\n",
        "print(df_2024['CSAPATNÉV'].tolist())"
      ]
    },
    {
      "cell_type": "markdown",
      "metadata": {
        "id": "rX4lt5lOUL1Q"
      },
      "source": [
        "Oszlopok (események) neveinek leellenőréze."
      ]
    },
    {
      "cell_type": "code",
      "execution_count": 12,
      "metadata": {
        "colab": {
          "base_uri": "https://localhost:8080/"
        },
        "id": "xyTfgmG-rCkh",
        "outputId": "0aeff753-4f8f-4e48-f8b6-1fff979c4402"
      },
      "outputs": [
        {
          "output_type": "execute_result",
          "data": {
            "text/plain": [
              "{'2024': ['PC:CS 2', 'CHEST - PONG', 'SLAM', 'RÖPI', 'PC:LOL', 'SZEMÉTSZEDÉS'],\n",
              " '2022': ['CS:GO', 'LOL', 'RÖPI', 'SLAM', 'CHEST-PONG'],\n",
              " '2023': ['CS:GO', 'LOL', 'SLAM POETRY', 'RÖPLABDA', 'CHEST-PONG']}"
            ]
          },
          "metadata": {},
          "execution_count": 12
        }
      ],
      "source": [
        "columns_2024 = df_2024.columns.tolist()\n",
        "columns_2022 = df_2022.columns.tolist()\n",
        "columns_2023 = df_2023.columns.tolist()\n",
        "\n",
        "matching_columns = set(columns_2024).intersection(columns_2022).intersection(columns_2023)\n",
        "#Találó oszlopok ellenőrzése\n",
        "#matching_columns = list(matching_columns)\n",
        "#matching_columns\n",
        "\n",
        "non_matching_columns_2024 = set(columns_2024) - set(matching_columns)\n",
        "non_matching_columns_2022 = set(columns_2022) - set(matching_columns)\n",
        "non_matching_columns_2023 = set(columns_2023) - set(matching_columns)\n",
        "\n",
        "non_matching_columns = {\n",
        "    '2024': list(non_matching_columns_2024),\n",
        "    '2022': list(non_matching_columns_2022),\n",
        "    '2023': list(non_matching_columns_2023)\n",
        "}\n",
        "\n",
        "non_matching_columns"
      ]
    },
    {
      "cell_type": "markdown",
      "metadata": {
        "id": "np7fToCWUUVA"
      },
      "source": [
        "Nevezési hibák javítása és esemény(ek) eltávolítása"
      ]
    },
    {
      "cell_type": "code",
      "execution_count": 13,
      "metadata": {
        "id": "hbFkPs4Yop9j"
      },
      "outputs": [],
      "source": [
        "df_2024.rename(columns={'PC:CS 2': 'CS:GO'}, inplace=True)\n",
        "df_2024.rename(columns={'CHEST - PONG': 'CHEST-PONG'}, inplace=True)\n",
        "df_2024.rename(columns={'PC:LOL': 'LOL'}, inplace=True)\n",
        "df_2023.rename(columns={'RÖPLABDA': 'RÖPI'}, inplace=True)\n",
        "df_2023.rename(columns={'SLAM POETRY': 'SLAM'}, inplace=True)"
      ]
    },
    {
      "cell_type": "code",
      "execution_count": 14,
      "metadata": {
        "id": "wX3MMHcHtNac"
      },
      "outputs": [],
      "source": [
        "# Kivonom a szemétszedés oszlop összegét eltávolítás előtt\n",
        "df_2024['ÖSSZESEN'] = df_2024['ÖSSZESEN'] - df_2024['SZEMÉTSZEDÉS']\n",
        "\n",
        "# Mivel a szemétszedés minden csapatnak 100 pont lett és az előző években nincs benne, ezért ezt el lehet távolítani\n",
        "df_2024.drop(columns=['SZEMÉTSZEDÉS'], inplace=True)"
      ]
    },
    {
      "cell_type": "markdown",
      "metadata": {
        "id": "06eDSQ0OUgek"
      },
      "source": [
        "Ellenőrzés"
      ]
    },
    {
      "cell_type": "code",
      "execution_count": 15,
      "metadata": {
        "colab": {
          "base_uri": "https://localhost:8080/"
        },
        "id": "EAW3htF_w_yg",
        "outputId": "216aa91f-317d-430c-9508-f50bfe411ba1"
      },
      "outputs": [
        {
          "output_type": "execute_result",
          "data": {
            "text/plain": [
              "{'2024': [], '2022': [], '2023': []}"
            ]
          },
          "metadata": {},
          "execution_count": 15
        }
      ],
      "source": [
        "columns_2024 = df_2024.columns.tolist()\n",
        "columns_2022 = df_2022.columns.tolist()\n",
        "columns_2023 = df_2023.columns.tolist()\n",
        "\n",
        "matching_columns = set(columns_2024).intersection(columns_2022).intersection(columns_2023)\n",
        "\n",
        "non_matching_columns_2024 = set(columns_2024) - set(matching_columns)\n",
        "non_matching_columns_2022 = set(columns_2022) - set(matching_columns)\n",
        "non_matching_columns_2023 = set(columns_2023) - set(matching_columns)\n",
        "\n",
        "non_matching_columns = {\n",
        "    '2024': list(non_matching_columns_2024),\n",
        "    '2022': list(non_matching_columns_2022),\n",
        "    '2023': list(non_matching_columns_2023)\n",
        "}\n",
        "\n",
        "non_matching_columns"
      ]
    },
    {
      "cell_type": "markdown",
      "metadata": {
        "id": "W6Tvv30uUnMY"
      },
      "source": [
        "Csapatnevek különbségei a 3 év alatt. Az itt található hibák manuláisan lettek javítva."
      ]
    },
    {
      "cell_type": "code",
      "execution_count": 16,
      "metadata": {
        "colab": {
          "base_uri": "https://localhost:8080/"
        },
        "id": "EG38CyjSxOVn",
        "outputId": "fd97f558-3f84-44fe-b1a0-475fafc9de24"
      },
      "outputs": [
        {
          "output_type": "execute_result",
          "data": {
            "text/plain": [
              "{'2024': ['ANYUKÁD KEDVENC CSAPATA',\n",
              "  'FRÖCCSÖGÖK',\n",
              "  'DURGOLAX',\n",
              "  'MAD DOGS',\n",
              "  'VÁ$ÖRHELYOLÉÉÉ',\n",
              "  'BIOLORGIA',\n",
              "  'STROHGEREK',\n",
              "  'KOMA-SZUTRA',\n",
              "  'KOMLÓSHOCK',\n",
              "  'LEMONARCHIA',\n",
              "  'MEGBORULUNK',\n",
              "  \".S!C'R\",\n",
              "  'COLABORÉSÖN',\n",
              "  'PUSSYLVA',\n",
              "  'ART-ISZTOK',\n",
              "  'BARÁTOCOOL',\n",
              "  'ETILALAKULAT',\n",
              "  'MURATURA',\n",
              "  'TEQUILA TIGRISEK',\n",
              "  'N@FING',\n",
              "  'FEHÉRLÓPHIA',\n",
              "  \"S'TUDJA\",\n",
              "  'SÖRNYETEGEK',\n",
              "  'HÖKÖL',\n",
              "  'HUPIKÉK SÖRIKÉK',\n",
              "  'BULI-GUNS',\n",
              "  'ABSZOLÚT'],\n",
              " '2022': ['SZŰRT',\n",
              "  'SZESZESÚJVÁR',\n",
              "  'ANTI-BIUNICUM',\n",
              "  'POPÓLOPÓK',\n",
              "  \"S'TUDJA\",\n",
              "  'DEVASTATION',\n",
              "  'JAZZEMEG',\n",
              "  'QUASALO',\n",
              "  'FEHÉRLÓPIA',\n",
              "  'VANSÖR',\n",
              "  'MURATÚRA',\n",
              "  '‘CUZGÁZ',\n",
              "  'KÓMA-SZUTRA',\n",
              "  'ANYUKÁD KEDVENC CSAPATA'],\n",
              " '2023': ['PRODUCKTIVE',\n",
              "  'FRÖCCSÖGÖK',\n",
              "  'SZŰRT',\n",
              "  'DURGOLAX',\n",
              "  'MAD DOGS',\n",
              "  'GINSTABIL',\n",
              "  'BIOLORGIA',\n",
              "  'STROHGEREK',\n",
              "  'VÁ$ÖRH\\x80LYOLÉÉÉ',\n",
              "  'KOMA-SZUTRA',\n",
              "  'LEMONARCHIA',\n",
              "  'MEGBORULUNK',\n",
              "  \".S!C'R\",\n",
              "  'COLABORÉSÖN',\n",
              "  'VANSÖR',\n",
              "  'MURATÚRA',\n",
              "  'BARÁTOCOOL',\n",
              "  'ETILALAKULAT',\n",
              "  'N@FING',\n",
              "  'FEHÉRLÓPHIA',\n",
              "  'SZESZESÚJVÁR',\n",
              "  'POPÓLOPÓK',\n",
              "  'SÖRNYETEGEK',\n",
              "  'HÖKÖL',\n",
              "  'ABSZOLÚT']}"
            ]
          },
          "metadata": {},
          "execution_count": 16
        }
      ],
      "source": [
        "teams_2024 = set(df_2024['CSAPATNÉV'])\n",
        "teams_2022 = set(df_2022['CSAPATNÉV'])\n",
        "teams_2023 = set(df_2023['CSAPATNÉV'])\n",
        "\n",
        "matching_teams = teams_2024.intersection(teams_2022).intersection(teams_2023)\n",
        "\n",
        "non_matching_teams_2024 = teams_2024 - matching_teams\n",
        "non_matching_teams_2022 = teams_2022 - matching_teams\n",
        "non_matching_teams_2023 = teams_2023 - matching_teams\n",
        "\n",
        "non_matching_teams = {\n",
        "    '2024': list(non_matching_teams_2024),\n",
        "    '2022': list(non_matching_teams_2022),\n",
        "    '2023': list(non_matching_teams_2023)\n",
        "}\n",
        "\n",
        "non_matching_teams"
      ]
    },
    {
      "cell_type": "markdown",
      "source": [
        "Innen folytatjuk!"
      ],
      "metadata": {
        "id": "6pDuUYRgLMKN"
      }
    },
    {
      "cell_type": "code",
      "source": [
        "teams = pd.DataFrame(teams_2024)\n",
        "teams = teams.rename(columns={0:2024})\n",
        "teams_2023a=list(teams_2023) + list(range(2))\n",
        "teams_2022a=list(teams_2022) + list(range(13))\n",
        "\n",
        "len(teams_2024), len(teams_2023a), len(teams_2022a)\n",
        "\n",
        "teams[2023]=teams_2023a\n",
        "teams[2022]=teams_2022a\n",
        "teams.to_excel('teams.xlsx')"
      ],
      "metadata": {
        "id": "2Buk34ojLL3y"
      },
      "execution_count": 24,
      "outputs": []
    },
    {
      "cell_type": "code",
      "source": [
        "teams_javitott=pd.read_excel('teams_javitott.xlsx').drop('Unnamed: 0', axis=1)"
      ],
      "metadata": {
        "id": "fPD7SeihMNTu"
      },
      "execution_count": 25,
      "outputs": []
    },
    {
      "cell_type": "code",
      "source": [
        "df_2024['CSAPATNÉV'] = df_2024['CSAPATNÉV'].replace(teams_javitott.set_index(2024)['CSAPAT'])\n",
        "df_2023['CSAPATNÉV'] = df_2023['CSAPATNÉV'].replace(teams_javitott.set_index(2023)['CSAPAT'])\n",
        "df_2022['CSAPATNÉV'] = df_2022['CSAPATNÉV'].replace(teams_javitott.set_index(2022)['CSAPAT'])"
      ],
      "metadata": {
        "id": "FLyL0ie6MNC9"
      },
      "execution_count": 26,
      "outputs": []
    },
    {
      "cell_type": "code",
      "source": [
        "teams_2024 = set(df_2024['CSAPATNÉV'])\n",
        "teams_2022 = set(df_2022['CSAPATNÉV'])\n",
        "teams_2023 = set(df_2023['CSAPATNÉV'])\n",
        "\n",
        "matching_teams = teams_2024.intersection(teams_2022).intersection(teams_2023)"
      ],
      "metadata": {
        "id": "1oyGfQzCQ788"
      },
      "execution_count": 27,
      "outputs": []
    },
    {
      "cell_type": "code",
      "execution_count": 28,
      "metadata": {
        "id": "yJL20Dn8fwVv"
      },
      "outputs": [],
      "source": [
        "df_2022['ÉV'] = 2022\n",
        "df_2023['ÉV'] = 2023\n",
        "df_2024['ÉV'] = 2024\n",
        "\n",
        "# Összesítés (3 év)\n",
        "df_combined = pd.concat([df_2022, df_2023, df_2024])"
      ]
    },
    {
      "cell_type": "code",
      "source": [
        "df = df_combined[ df_combined['CSAPATNÉV'].isin(matching_teams) ]"
      ],
      "metadata": {
        "id": "7SeKIR9jRxCb"
      },
      "execution_count": 29,
      "outputs": []
    },
    {
      "cell_type": "code",
      "source": [
        "df.columns"
      ],
      "metadata": {
        "colab": {
          "base_uri": "https://localhost:8080/"
        },
        "id": "UL-lLTCGSyRA",
        "outputId": "f2797941-4377-4790-930a-582520559c16"
      },
      "execution_count": 33,
      "outputs": [
        {
          "output_type": "execute_result",
          "data": {
            "text/plain": [
              "Index(['CSAPATNÉV', 'ASZTALITENISZ', 'BEER-PONG', 'BEMUTATKOZÓ', 'BILIÁRD',\n",
              "       'BOGRÁCS', 'BOLC', 'CHANDELIER', 'CHEST-PONG', 'CITY TOUR', 'COOLTÚRA',\n",
              "       'CS:GO', 'CSOCSÓ', 'DANCE BATTLE', 'EROTIK', 'FÉRFI FOCI',\n",
              "       'FOTÓMARATON', 'JENGA', 'KARAOKE', 'KÉZILABDA', 'KLÁN-TOUR',\n",
              "       'KLÁN-TOUR NIGHT', 'KOSÁRLABDA', 'KULTÚRMARATON', 'LOL', 'MÉTA',\n",
              "       'NÉPTÁNC', 'NŐI FOCI', 'PÓKER', 'RÖPI', 'SAKK', 'SLAM', 'STAFÉTA',\n",
              "       'TÁBLÉ', 'TÁNCMARATON', 'ÚSZÁS', 'ÖSSZESEN', 'ÉV'],\n",
              "      dtype='object')"
            ]
          },
          "metadata": {},
          "execution_count": 33
        }
      ]
    },
    {
      "cell_type": "code",
      "source": [
        "df.info()"
      ],
      "metadata": {
        "colab": {
          "base_uri": "https://localhost:8080/"
        },
        "id": "xIKM2gSiuHHE",
        "outputId": "3e184499-041b-464f-e0f5-a1a74448c7cd"
      },
      "execution_count": 126,
      "outputs": [
        {
          "output_type": "stream",
          "name": "stdout",
          "text": [
            "<class 'pandas.core.frame.DataFrame'>\n",
            "Index: 123 entries, 0 to 63\n",
            "Data columns (total 38 columns):\n",
            " #   Column           Non-Null Count  Dtype \n",
            "---  ------           --------------  ----- \n",
            " 0   CSAPATNÉV        123 non-null    object\n",
            " 1   ASZTALITENISZ    123 non-null    int64 \n",
            " 2   BEER-PONG        123 non-null    int64 \n",
            " 3   BEMUTATKOZÓ      123 non-null    int64 \n",
            " 4   BILIÁRD          123 non-null    int64 \n",
            " 5   BOGRÁCS          123 non-null    int64 \n",
            " 6   BOLC             123 non-null    int64 \n",
            " 7   CHANDELIER       123 non-null    int64 \n",
            " 8   CHEST-PONG       123 non-null    int64 \n",
            " 9   CITY TOUR        123 non-null    int64 \n",
            " 10  COOLTÚRA         123 non-null    int64 \n",
            " 11  CS:GO            123 non-null    int64 \n",
            " 12  CSOCSÓ           123 non-null    int64 \n",
            " 13  DANCE BATTLE     123 non-null    int64 \n",
            " 14  EROTIK           123 non-null    int64 \n",
            " 15  FÉRFI FOCI       123 non-null    int64 \n",
            " 16  FOTÓMARATON      123 non-null    int64 \n",
            " 17  JENGA            123 non-null    int64 \n",
            " 18  KARAOKE          123 non-null    int64 \n",
            " 19  KÉZILABDA        123 non-null    int64 \n",
            " 20  KLÁN-TOUR        123 non-null    int64 \n",
            " 21  KLÁN-TOUR NIGHT  123 non-null    int64 \n",
            " 22  KOSÁRLABDA       123 non-null    int64 \n",
            " 23  KULTÚRMARATON    123 non-null    int64 \n",
            " 24  LOL              123 non-null    int64 \n",
            " 25  MÉTA             123 non-null    int64 \n",
            " 26  NÉPTÁNC          123 non-null    int64 \n",
            " 27  NŐI FOCI         123 non-null    int64 \n",
            " 28  PÓKER            123 non-null    int64 \n",
            " 29  RÖPI             123 non-null    int64 \n",
            " 30  SAKK             123 non-null    int64 \n",
            " 31  SLAM             123 non-null    int64 \n",
            " 32  STAFÉTA          123 non-null    int64 \n",
            " 33  TÁBLÉ            123 non-null    int64 \n",
            " 34  TÁNCMARATON      123 non-null    int64 \n",
            " 35  ÚSZÁS            123 non-null    int64 \n",
            " 36  ÖSSZESEN         123 non-null    int64 \n",
            " 37  ÉV               123 non-null    int64 \n",
            "dtypes: int64(37), object(1)\n",
            "memory usage: 37.5+ KB\n"
          ]
        }
      ]
    },
    {
      "cell_type": "markdown",
      "source": [
        "# AI - Projekt"
      ],
      "metadata": {
        "id": "Q7gLB3VpwkwM"
      }
    },
    {
      "cell_type": "code",
      "source": [
        "df_2022 = pd.read_csv('Copy of 2022.csv')\n",
        "df_2023 = pd.read_csv('Copy of 2023.csv')\n",
        "df_2024 = pd.read_excel('2024.xlsx')"
      ],
      "metadata": {
        "id": "UIWtNlHywhMV"
      },
      "execution_count": 127,
      "outputs": []
    },
    {
      "cell_type": "code",
      "source": [
        "df_2022.head(), df_2023.head(), df_2024.head()"
      ],
      "metadata": {
        "colab": {
          "base_uri": "https://localhost:8080/"
        },
        "id": "1lcUvV40ww2E",
        "outputId": "6ec797e2-935a-4ae2-b944-5e27c3760fc8"
      },
      "execution_count": 128,
      "outputs": [
        {
          "output_type": "execute_result",
          "data": {
            "text/plain": [
              "(      Unnamed: 0  Zsákmány  WhatsOn  WeSithek  Weedrák  WaTtaFák  Verbunk  \\\n",
              " 0  Asztalitenisz        25       50        50       25        75       25   \n",
              " 1      Beer-Pong        90      170        50       50        90       90   \n",
              " 2    Bemutatkozó       128      120        75      225       208       42   \n",
              " 3        Biliárd        20       30        30      100        20       20   \n",
              " 4        Bogrács       106       85        90       93        98      101   \n",
              " \n",
              "    Vansör  Vá$örhely  UNI-GUNS  ...  BorÁszok  Beez-Mute  Beerluck  BEER-ka  \\\n",
              " 0      50         75        75  ...        25        135        50      120   \n",
              " 1      90         50       300  ...       130         50       170       50   \n",
              " 2     213         25       342  ...        90        290       350      127   \n",
              " 3      50         30        20  ...        40         40        20       20   \n",
              " 4       0        116       145  ...        94        104        92      102   \n",
              " \n",
              "    Basszhattyúk  Anyukád kedvenc csapata  Anti-biUnicum  amitakartok  \\\n",
              " 0            50                       50             50           25   \n",
              " 1            50                       50             50           50   \n",
              " 2            25                      188            112          242   \n",
              " 3             0                       20             80           30   \n",
              " 4             0                       69             81          122   \n",
              " \n",
              "    A Kocka Másik Oldala  ‘cuzGáz  \n",
              " 0                   100       50  \n",
              " 1                    90       90  \n",
              " 2                    54       49  \n",
              " 3                    40       30  \n",
              " 4                   109      102  \n",
              " \n",
              " [5 rows x 52 columns],\n",
              "       Unnamed: 0  Koma-Szutra  GenItália  FuckTúra  Beez-Mute  Vá$örhely  \\\n",
              " 0  Asztalitenisz          150        100        25        120         50   \n",
              " 1      Beer-Pong          130         90        90         90         50   \n",
              " 2    Bemutatkozó          311        340       345        343        340   \n",
              " 3        Biliárd           20         30        20         20         30   \n",
              " 4        Bogrács          178        230       203        225        217   \n",
              " \n",
              "    Shakesbeer  UNI-GUNS  MozgéKonyak  Cum With Us  ...  AbszolÚt  \\\n",
              " 0         100        25           25           25  ...        50   \n",
              " 1          50       130           90          130  ...        50   \n",
              " 2         245       340          268          323  ...       248   \n",
              " 3          20        20           50           50  ...        20   \n",
              " 4         237       212          227          160  ...       203   \n",
              " \n",
              "    diaknapos csapat  Mad Dogs  Drunkin' donuts  Lemonarchia  Fröccsögök  \\\n",
              " 0                 0        50               25           25         100   \n",
              " 1                90        50               90           50         130   \n",
              " 2               123       193              183            0         163   \n",
              " 3                30       120               20          150           0   \n",
              " 4               156       183              162          135         165   \n",
              " \n",
              "    Etilalakulat  RoxtARRok  MegBORulunk  SzEscoBar  \n",
              " 0            50         25           25         25  \n",
              " 1            50         50           50         50  \n",
              " 2           213        123           83        188  \n",
              " 3            30         30           30         20  \n",
              " 4           178          0            0          0  \n",
              " \n",
              " [5 rows x 63 columns],\n",
              "         CSAPATNÉV  ÖSSZESEN  ASZTALITENISZ  BEER-PONG  BEMUTATKOZÓ  BILIÁRD  \\\n",
              " 0      1. S'tudja      5608            140         80          318       45   \n",
              " 1    2. GenItália      5488            180         50          332       75   \n",
              " 2     3. UNI-GUNS      5277            120        140          333       60   \n",
              " 3  4. Sörnyetegek      4907             65        260          244       75   \n",
              " 4   5. Shakesbeer      4898             95         50          288       45   \n",
              " \n",
              "    BOGRÁCS  BOLC  CHANDELIER  CHEST - PONG  ...  PC:LOL  PÓKER  RÖPI  SAKK  \\\n",
              " 0      198   150          30           215  ...     150    120   200    45   \n",
              " 1      211   155         155            90  ...      10     40    45   160   \n",
              " 2      228   140         200            70  ...     150     30   200    60   \n",
              " 3      154   105          60           180  ...      75     70   130    60   \n",
              " 4      196    28          30            50  ...     150     70   200    45   \n",
              " \n",
              "    SLAM  STAFÉTA  SZEMÉTSZEDÉS  TÁBLÉ  TÁNCMARATON  ÚSZÁS  \n",
              " 0    60      170           100     90          349    116  \n",
              " 1    60      140           100     60          350    138  \n",
              " 2    60      136           100     45          350     92  \n",
              " 3    60      112           100      0          342    126  \n",
              " 4    60      120           100     75          343    160  \n",
              " \n",
              " [5 rows x 38 columns])"
            ]
          },
          "metadata": {},
          "execution_count": 128
        }
      ]
    },
    {
      "cell_type": "code",
      "source": [
        "df_2022_t = df_2022.T.reset_index()\n",
        "df_2023_t = df_2023.T.reset_index()"
      ],
      "metadata": {
        "id": "b2frtalExAfF"
      },
      "execution_count": 129,
      "outputs": []
    },
    {
      "cell_type": "code",
      "source": [
        "df_2022_t.columns = df_2022_t.iloc[0]\n",
        "df_2022_t = df_2022_t[1:]"
      ],
      "metadata": {
        "id": "6OBpPOIRxGbV"
      },
      "execution_count": 130,
      "outputs": []
    },
    {
      "cell_type": "code",
      "source": [
        "df_2022_t.rename(columns={'Unnamed: 0': 'CSAPATNÉV'}, inplace=True)"
      ],
      "metadata": {
        "id": "Vu0I5bz9zAsT"
      },
      "execution_count": 131,
      "outputs": []
    },
    {
      "cell_type": "code",
      "source": [
        "df_2023_t.columns = df_2023_t.iloc[0]\n",
        "df_2023_t = df_2023_t[1:]"
      ],
      "metadata": {
        "id": "oFXfunO1zN3L"
      },
      "execution_count": 132,
      "outputs": []
    },
    {
      "cell_type": "code",
      "source": [
        "df_2023_t.rename(columns={'Unnamed: 0': 'CSAPATNÉV'}, inplace=True)\n"
      ],
      "metadata": {
        "id": "G2z9mCaRzQ0e"
      },
      "execution_count": 133,
      "outputs": []
    },
    {
      "cell_type": "code",
      "source": [
        "df_2022_t['CSAPATNÉV'] = df_2022_t['CSAPATNÉV'].str.strip()\n",
        "df_2023_t['CSAPATNÉV'] = df_2023_t['CSAPATNÉV'].str.strip()\n",
        "df_2024['CSAPATNÉV'] = df_2024['CSAPATNÉV'].str.strip()"
      ],
      "metadata": {
        "id": "z-_gw0xFzUPo"
      },
      "execution_count": 134,
      "outputs": []
    },
    {
      "cell_type": "code",
      "source": [
        "df_combined = pd.concat([df_2022_t, df_2023_t, df_2024], ignore_index=True, sort=False)\n"
      ],
      "metadata": {
        "id": "_1UXeNjezWjr"
      },
      "execution_count": 135,
      "outputs": []
    },
    {
      "cell_type": "code",
      "source": [
        "for column in df_combined.columns:\n",
        "    if column != 'CSAPATNÉV':\n",
        "        df_combined[column] = pd.to_numeric(df_combined[column], errors='coerce').fillna(0)\n"
      ],
      "metadata": {
        "id": "PpAXXvvEzXqV"
      },
      "execution_count": 136,
      "outputs": []
    },
    {
      "cell_type": "code",
      "source": [
        "df_combined.head()"
      ],
      "metadata": {
        "colab": {
          "base_uri": "https://localhost:8080/",
          "height": 273
        },
        "id": "Mi9KIfmVzazg",
        "outputId": "0fc0bb9a-9317-4177-e178-08c75192e1f9"
      },
      "execution_count": 137,
      "outputs": [
        {
          "output_type": "execute_result",
          "data": {
            "text/plain": [
              "  CSAPATNÉV  Asztalitenisz  Beer-Pong  Bemutatkozó  Biliárd  Bogrács   Bolc  \\\n",
              "0  Zsákmány           25.0       90.0        128.0     20.0    106.0  155.0   \n",
              "1   WhatsOn           50.0      170.0        120.0     30.0     85.0   46.0   \n",
              "2  WeSithek           50.0       50.0         75.0     30.0     90.0   75.0   \n",
              "3   Weedrák           25.0       50.0        225.0    100.0     93.0   44.0   \n",
              "4  WaTtaFák           75.0       90.0        208.0     20.0     98.0   40.0   \n",
              "\n",
              "   Chandelier  Chest-Pong  City Tour  ...  PC:LOL  PÓKER  RÖPI  SAKK  SLAM  \\\n",
              "0        60.0        50.0      247.0  ...     0.0    0.0   0.0   0.0   0.0   \n",
              "1        70.0        90.0      147.0  ...     0.0    0.0   0.0   0.0   0.0   \n",
              "2       180.0       130.0      153.0  ...     0.0    0.0   0.0   0.0   0.0   \n",
              "3        50.0        50.0      116.0  ...     0.0    0.0   0.0   0.0   0.0   \n",
              "4        30.0        50.0      246.0  ...     0.0    0.0   0.0   0.0   0.0   \n",
              "\n",
              "   STAFÉTA  SZEMÉTSZEDÉS  TÁBLÉ  TÁNCMARATON  ÚSZÁS  \n",
              "0      0.0           0.0    0.0          0.0    0.0  \n",
              "1      0.0           0.0    0.0          0.0    0.0  \n",
              "2      0.0           0.0    0.0          0.0    0.0  \n",
              "3      0.0           0.0    0.0          0.0    0.0  \n",
              "4      0.0           0.0    0.0          0.0    0.0  \n",
              "\n",
              "[5 rows x 76 columns]"
            ],
            "text/html": [
              "\n",
              "  <div id=\"df-d637c960-d9c2-46bc-8046-538458c8ff66\" class=\"colab-df-container\">\n",
              "    <div>\n",
              "<style scoped>\n",
              "    .dataframe tbody tr th:only-of-type {\n",
              "        vertical-align: middle;\n",
              "    }\n",
              "\n",
              "    .dataframe tbody tr th {\n",
              "        vertical-align: top;\n",
              "    }\n",
              "\n",
              "    .dataframe thead th {\n",
              "        text-align: right;\n",
              "    }\n",
              "</style>\n",
              "<table border=\"1\" class=\"dataframe\">\n",
              "  <thead>\n",
              "    <tr style=\"text-align: right;\">\n",
              "      <th></th>\n",
              "      <th>CSAPATNÉV</th>\n",
              "      <th>Asztalitenisz</th>\n",
              "      <th>Beer-Pong</th>\n",
              "      <th>Bemutatkozó</th>\n",
              "      <th>Biliárd</th>\n",
              "      <th>Bogrács</th>\n",
              "      <th>Bolc</th>\n",
              "      <th>Chandelier</th>\n",
              "      <th>Chest-Pong</th>\n",
              "      <th>City Tour</th>\n",
              "      <th>...</th>\n",
              "      <th>PC:LOL</th>\n",
              "      <th>PÓKER</th>\n",
              "      <th>RÖPI</th>\n",
              "      <th>SAKK</th>\n",
              "      <th>SLAM</th>\n",
              "      <th>STAFÉTA</th>\n",
              "      <th>SZEMÉTSZEDÉS</th>\n",
              "      <th>TÁBLÉ</th>\n",
              "      <th>TÁNCMARATON</th>\n",
              "      <th>ÚSZÁS</th>\n",
              "    </tr>\n",
              "  </thead>\n",
              "  <tbody>\n",
              "    <tr>\n",
              "      <th>0</th>\n",
              "      <td>Zsákmány</td>\n",
              "      <td>25.0</td>\n",
              "      <td>90.0</td>\n",
              "      <td>128.0</td>\n",
              "      <td>20.0</td>\n",
              "      <td>106.0</td>\n",
              "      <td>155.0</td>\n",
              "      <td>60.0</td>\n",
              "      <td>50.0</td>\n",
              "      <td>247.0</td>\n",
              "      <td>...</td>\n",
              "      <td>0.0</td>\n",
              "      <td>0.0</td>\n",
              "      <td>0.0</td>\n",
              "      <td>0.0</td>\n",
              "      <td>0.0</td>\n",
              "      <td>0.0</td>\n",
              "      <td>0.0</td>\n",
              "      <td>0.0</td>\n",
              "      <td>0.0</td>\n",
              "      <td>0.0</td>\n",
              "    </tr>\n",
              "    <tr>\n",
              "      <th>1</th>\n",
              "      <td>WhatsOn</td>\n",
              "      <td>50.0</td>\n",
              "      <td>170.0</td>\n",
              "      <td>120.0</td>\n",
              "      <td>30.0</td>\n",
              "      <td>85.0</td>\n",
              "      <td>46.0</td>\n",
              "      <td>70.0</td>\n",
              "      <td>90.0</td>\n",
              "      <td>147.0</td>\n",
              "      <td>...</td>\n",
              "      <td>0.0</td>\n",
              "      <td>0.0</td>\n",
              "      <td>0.0</td>\n",
              "      <td>0.0</td>\n",
              "      <td>0.0</td>\n",
              "      <td>0.0</td>\n",
              "      <td>0.0</td>\n",
              "      <td>0.0</td>\n",
              "      <td>0.0</td>\n",
              "      <td>0.0</td>\n",
              "    </tr>\n",
              "    <tr>\n",
              "      <th>2</th>\n",
              "      <td>WeSithek</td>\n",
              "      <td>50.0</td>\n",
              "      <td>50.0</td>\n",
              "      <td>75.0</td>\n",
              "      <td>30.0</td>\n",
              "      <td>90.0</td>\n",
              "      <td>75.0</td>\n",
              "      <td>180.0</td>\n",
              "      <td>130.0</td>\n",
              "      <td>153.0</td>\n",
              "      <td>...</td>\n",
              "      <td>0.0</td>\n",
              "      <td>0.0</td>\n",
              "      <td>0.0</td>\n",
              "      <td>0.0</td>\n",
              "      <td>0.0</td>\n",
              "      <td>0.0</td>\n",
              "      <td>0.0</td>\n",
              "      <td>0.0</td>\n",
              "      <td>0.0</td>\n",
              "      <td>0.0</td>\n",
              "    </tr>\n",
              "    <tr>\n",
              "      <th>3</th>\n",
              "      <td>Weedrák</td>\n",
              "      <td>25.0</td>\n",
              "      <td>50.0</td>\n",
              "      <td>225.0</td>\n",
              "      <td>100.0</td>\n",
              "      <td>93.0</td>\n",
              "      <td>44.0</td>\n",
              "      <td>50.0</td>\n",
              "      <td>50.0</td>\n",
              "      <td>116.0</td>\n",
              "      <td>...</td>\n",
              "      <td>0.0</td>\n",
              "      <td>0.0</td>\n",
              "      <td>0.0</td>\n",
              "      <td>0.0</td>\n",
              "      <td>0.0</td>\n",
              "      <td>0.0</td>\n",
              "      <td>0.0</td>\n",
              "      <td>0.0</td>\n",
              "      <td>0.0</td>\n",
              "      <td>0.0</td>\n",
              "    </tr>\n",
              "    <tr>\n",
              "      <th>4</th>\n",
              "      <td>WaTtaFák</td>\n",
              "      <td>75.0</td>\n",
              "      <td>90.0</td>\n",
              "      <td>208.0</td>\n",
              "      <td>20.0</td>\n",
              "      <td>98.0</td>\n",
              "      <td>40.0</td>\n",
              "      <td>30.0</td>\n",
              "      <td>50.0</td>\n",
              "      <td>246.0</td>\n",
              "      <td>...</td>\n",
              "      <td>0.0</td>\n",
              "      <td>0.0</td>\n",
              "      <td>0.0</td>\n",
              "      <td>0.0</td>\n",
              "      <td>0.0</td>\n",
              "      <td>0.0</td>\n",
              "      <td>0.0</td>\n",
              "      <td>0.0</td>\n",
              "      <td>0.0</td>\n",
              "      <td>0.0</td>\n",
              "    </tr>\n",
              "  </tbody>\n",
              "</table>\n",
              "<p>5 rows × 76 columns</p>\n",
              "</div>\n",
              "    <div class=\"colab-df-buttons\">\n",
              "\n",
              "  <div class=\"colab-df-container\">\n",
              "    <button class=\"colab-df-convert\" onclick=\"convertToInteractive('df-d637c960-d9c2-46bc-8046-538458c8ff66')\"\n",
              "            title=\"Convert this dataframe to an interactive table.\"\n",
              "            style=\"display:none;\">\n",
              "\n",
              "  <svg xmlns=\"http://www.w3.org/2000/svg\" height=\"24px\" viewBox=\"0 -960 960 960\">\n",
              "    <path d=\"M120-120v-720h720v720H120Zm60-500h600v-160H180v160Zm220 220h160v-160H400v160Zm0 220h160v-160H400v160ZM180-400h160v-160H180v160Zm440 0h160v-160H620v160ZM180-180h160v-160H180v160Zm440 0h160v-160H620v160Z\"/>\n",
              "  </svg>\n",
              "    </button>\n",
              "\n",
              "  <style>\n",
              "    .colab-df-container {\n",
              "      display:flex;\n",
              "      gap: 12px;\n",
              "    }\n",
              "\n",
              "    .colab-df-convert {\n",
              "      background-color: #E8F0FE;\n",
              "      border: none;\n",
              "      border-radius: 50%;\n",
              "      cursor: pointer;\n",
              "      display: none;\n",
              "      fill: #1967D2;\n",
              "      height: 32px;\n",
              "      padding: 0 0 0 0;\n",
              "      width: 32px;\n",
              "    }\n",
              "\n",
              "    .colab-df-convert:hover {\n",
              "      background-color: #E2EBFA;\n",
              "      box-shadow: 0px 1px 2px rgba(60, 64, 67, 0.3), 0px 1px 3px 1px rgba(60, 64, 67, 0.15);\n",
              "      fill: #174EA6;\n",
              "    }\n",
              "\n",
              "    .colab-df-buttons div {\n",
              "      margin-bottom: 4px;\n",
              "    }\n",
              "\n",
              "    [theme=dark] .colab-df-convert {\n",
              "      background-color: #3B4455;\n",
              "      fill: #D2E3FC;\n",
              "    }\n",
              "\n",
              "    [theme=dark] .colab-df-convert:hover {\n",
              "      background-color: #434B5C;\n",
              "      box-shadow: 0px 1px 3px 1px rgba(0, 0, 0, 0.15);\n",
              "      filter: drop-shadow(0px 1px 2px rgba(0, 0, 0, 0.3));\n",
              "      fill: #FFFFFF;\n",
              "    }\n",
              "  </style>\n",
              "\n",
              "    <script>\n",
              "      const buttonEl =\n",
              "        document.querySelector('#df-d637c960-d9c2-46bc-8046-538458c8ff66 button.colab-df-convert');\n",
              "      buttonEl.style.display =\n",
              "        google.colab.kernel.accessAllowed ? 'block' : 'none';\n",
              "\n",
              "      async function convertToInteractive(key) {\n",
              "        const element = document.querySelector('#df-d637c960-d9c2-46bc-8046-538458c8ff66');\n",
              "        const dataTable =\n",
              "          await google.colab.kernel.invokeFunction('convertToInteractive',\n",
              "                                                    [key], {});\n",
              "        if (!dataTable) return;\n",
              "\n",
              "        const docLinkHtml = 'Like what you see? Visit the ' +\n",
              "          '<a target=\"_blank\" href=https://colab.research.google.com/notebooks/data_table.ipynb>data table notebook</a>'\n",
              "          + ' to learn more about interactive tables.';\n",
              "        element.innerHTML = '';\n",
              "        dataTable['output_type'] = 'display_data';\n",
              "        await google.colab.output.renderOutput(dataTable, element);\n",
              "        const docLink = document.createElement('div');\n",
              "        docLink.innerHTML = docLinkHtml;\n",
              "        element.appendChild(docLink);\n",
              "      }\n",
              "    </script>\n",
              "  </div>\n",
              "\n",
              "\n",
              "<div id=\"df-f3dc0156-72b2-4875-94fc-8be4c266152f\">\n",
              "  <button class=\"colab-df-quickchart\" onclick=\"quickchart('df-f3dc0156-72b2-4875-94fc-8be4c266152f')\"\n",
              "            title=\"Suggest charts\"\n",
              "            style=\"display:none;\">\n",
              "\n",
              "<svg xmlns=\"http://www.w3.org/2000/svg\" height=\"24px\"viewBox=\"0 0 24 24\"\n",
              "     width=\"24px\">\n",
              "    <g>\n",
              "        <path d=\"M19 3H5c-1.1 0-2 .9-2 2v14c0 1.1.9 2 2 2h14c1.1 0 2-.9 2-2V5c0-1.1-.9-2-2-2zM9 17H7v-7h2v7zm4 0h-2V7h2v10zm4 0h-2v-4h2v4z\"/>\n",
              "    </g>\n",
              "</svg>\n",
              "  </button>\n",
              "\n",
              "<style>\n",
              "  .colab-df-quickchart {\n",
              "      --bg-color: #E8F0FE;\n",
              "      --fill-color: #1967D2;\n",
              "      --hover-bg-color: #E2EBFA;\n",
              "      --hover-fill-color: #174EA6;\n",
              "      --disabled-fill-color: #AAA;\n",
              "      --disabled-bg-color: #DDD;\n",
              "  }\n",
              "\n",
              "  [theme=dark] .colab-df-quickchart {\n",
              "      --bg-color: #3B4455;\n",
              "      --fill-color: #D2E3FC;\n",
              "      --hover-bg-color: #434B5C;\n",
              "      --hover-fill-color: #FFFFFF;\n",
              "      --disabled-bg-color: #3B4455;\n",
              "      --disabled-fill-color: #666;\n",
              "  }\n",
              "\n",
              "  .colab-df-quickchart {\n",
              "    background-color: var(--bg-color);\n",
              "    border: none;\n",
              "    border-radius: 50%;\n",
              "    cursor: pointer;\n",
              "    display: none;\n",
              "    fill: var(--fill-color);\n",
              "    height: 32px;\n",
              "    padding: 0;\n",
              "    width: 32px;\n",
              "  }\n",
              "\n",
              "  .colab-df-quickchart:hover {\n",
              "    background-color: var(--hover-bg-color);\n",
              "    box-shadow: 0 1px 2px rgba(60, 64, 67, 0.3), 0 1px 3px 1px rgba(60, 64, 67, 0.15);\n",
              "    fill: var(--button-hover-fill-color);\n",
              "  }\n",
              "\n",
              "  .colab-df-quickchart-complete:disabled,\n",
              "  .colab-df-quickchart-complete:disabled:hover {\n",
              "    background-color: var(--disabled-bg-color);\n",
              "    fill: var(--disabled-fill-color);\n",
              "    box-shadow: none;\n",
              "  }\n",
              "\n",
              "  .colab-df-spinner {\n",
              "    border: 2px solid var(--fill-color);\n",
              "    border-color: transparent;\n",
              "    border-bottom-color: var(--fill-color);\n",
              "    animation:\n",
              "      spin 1s steps(1) infinite;\n",
              "  }\n",
              "\n",
              "  @keyframes spin {\n",
              "    0% {\n",
              "      border-color: transparent;\n",
              "      border-bottom-color: var(--fill-color);\n",
              "      border-left-color: var(--fill-color);\n",
              "    }\n",
              "    20% {\n",
              "      border-color: transparent;\n",
              "      border-left-color: var(--fill-color);\n",
              "      border-top-color: var(--fill-color);\n",
              "    }\n",
              "    30% {\n",
              "      border-color: transparent;\n",
              "      border-left-color: var(--fill-color);\n",
              "      border-top-color: var(--fill-color);\n",
              "      border-right-color: var(--fill-color);\n",
              "    }\n",
              "    40% {\n",
              "      border-color: transparent;\n",
              "      border-right-color: var(--fill-color);\n",
              "      border-top-color: var(--fill-color);\n",
              "    }\n",
              "    60% {\n",
              "      border-color: transparent;\n",
              "      border-right-color: var(--fill-color);\n",
              "    }\n",
              "    80% {\n",
              "      border-color: transparent;\n",
              "      border-right-color: var(--fill-color);\n",
              "      border-bottom-color: var(--fill-color);\n",
              "    }\n",
              "    90% {\n",
              "      border-color: transparent;\n",
              "      border-bottom-color: var(--fill-color);\n",
              "    }\n",
              "  }\n",
              "</style>\n",
              "\n",
              "  <script>\n",
              "    async function quickchart(key) {\n",
              "      const quickchartButtonEl =\n",
              "        document.querySelector('#' + key + ' button');\n",
              "      quickchartButtonEl.disabled = true;  // To prevent multiple clicks.\n",
              "      quickchartButtonEl.classList.add('colab-df-spinner');\n",
              "      try {\n",
              "        const charts = await google.colab.kernel.invokeFunction(\n",
              "            'suggestCharts', [key], {});\n",
              "      } catch (error) {\n",
              "        console.error('Error during call to suggestCharts:', error);\n",
              "      }\n",
              "      quickchartButtonEl.classList.remove('colab-df-spinner');\n",
              "      quickchartButtonEl.classList.add('colab-df-quickchart-complete');\n",
              "    }\n",
              "    (() => {\n",
              "      let quickchartButtonEl =\n",
              "        document.querySelector('#df-f3dc0156-72b2-4875-94fc-8be4c266152f button');\n",
              "      quickchartButtonEl.style.display =\n",
              "        google.colab.kernel.accessAllowed ? 'block' : 'none';\n",
              "    })();\n",
              "  </script>\n",
              "</div>\n",
              "    </div>\n",
              "  </div>\n"
            ],
            "application/vnd.google.colaboratory.intrinsic+json": {
              "type": "dataframe",
              "variable_name": "df_combined"
            }
          },
          "metadata": {},
          "execution_count": 137
        }
      ]
    },
    {
      "cell_type": "markdown",
      "source": [
        "**Feladatok sulyanak megvizsgalasa**"
      ],
      "metadata": {
        "id": "uR6iuA4IzruC"
      }
    },
    {
      "cell_type": "code",
      "source": [
        "from sklearn.ensemble import RandomForestRegressor\n",
        "from sklearn.model_selection import train_test_split\n",
        "from sklearn.preprocessing import StandardScaler\n",
        "import numpy as np"
      ],
      "metadata": {
        "id": "1lqXVFYRzvs7"
      },
      "execution_count": 138,
      "outputs": []
    },
    {
      "cell_type": "code",
      "source": [
        "X = df_combined.drop(columns=['CSAPATNÉV', 'ÖSSZESEN'], errors='ignore')\n",
        "y = df_combined['ÖSSZESEN']"
      ],
      "metadata": {
        "id": "oYw4JaD9zzJS"
      },
      "execution_count": 139,
      "outputs": []
    },
    {
      "cell_type": "code",
      "source": [
        "X.fillna(0, inplace=True)\n",
        "y.fillna(0, inplace=True)"
      ],
      "metadata": {
        "id": "UtC_R1RUz01a"
      },
      "execution_count": 140,
      "outputs": []
    },
    {
      "cell_type": "code",
      "source": [
        "scaler = StandardScaler()\n",
        "X_scaled = scaler.fit_transform(X)"
      ],
      "metadata": {
        "id": "NW66jVlSz2gk"
      },
      "execution_count": 141,
      "outputs": []
    },
    {
      "cell_type": "code",
      "source": [
        "X_train, X_test, y_train, y_test = train_test_split(X_scaled, y, test_size=0.2, random_state=42)\n"
      ],
      "metadata": {
        "id": "fL5anWtBz4Zx"
      },
      "execution_count": 142,
      "outputs": []
    },
    {
      "cell_type": "code",
      "source": [
        "model = RandomForestRegressor(random_state=42)\n",
        "model.fit(X_train, y_train)"
      ],
      "metadata": {
        "colab": {
          "base_uri": "https://localhost:8080/",
          "height": 75
        },
        "id": "OGf7GH-Pz50Q",
        "outputId": "d3a3597e-c7cf-40a3-bacc-b8028f671b4d"
      },
      "execution_count": 143,
      "outputs": [
        {
          "output_type": "execute_result",
          "data": {
            "text/plain": [
              "RandomForestRegressor(random_state=42)"
            ],
            "text/html": [
              "<style>#sk-container-id-5 {color: black;background-color: white;}#sk-container-id-5 pre{padding: 0;}#sk-container-id-5 div.sk-toggleable {background-color: white;}#sk-container-id-5 label.sk-toggleable__label {cursor: pointer;display: block;width: 100%;margin-bottom: 0;padding: 0.3em;box-sizing: border-box;text-align: center;}#sk-container-id-5 label.sk-toggleable__label-arrow:before {content: \"▸\";float: left;margin-right: 0.25em;color: #696969;}#sk-container-id-5 label.sk-toggleable__label-arrow:hover:before {color: black;}#sk-container-id-5 div.sk-estimator:hover label.sk-toggleable__label-arrow:before {color: black;}#sk-container-id-5 div.sk-toggleable__content {max-height: 0;max-width: 0;overflow: hidden;text-align: left;background-color: #f0f8ff;}#sk-container-id-5 div.sk-toggleable__content pre {margin: 0.2em;color: black;border-radius: 0.25em;background-color: #f0f8ff;}#sk-container-id-5 input.sk-toggleable__control:checked~div.sk-toggleable__content {max-height: 200px;max-width: 100%;overflow: auto;}#sk-container-id-5 input.sk-toggleable__control:checked~label.sk-toggleable__label-arrow:before {content: \"▾\";}#sk-container-id-5 div.sk-estimator input.sk-toggleable__control:checked~label.sk-toggleable__label {background-color: #d4ebff;}#sk-container-id-5 div.sk-label input.sk-toggleable__control:checked~label.sk-toggleable__label {background-color: #d4ebff;}#sk-container-id-5 input.sk-hidden--visually {border: 0;clip: rect(1px 1px 1px 1px);clip: rect(1px, 1px, 1px, 1px);height: 1px;margin: -1px;overflow: hidden;padding: 0;position: absolute;width: 1px;}#sk-container-id-5 div.sk-estimator {font-family: monospace;background-color: #f0f8ff;border: 1px dotted black;border-radius: 0.25em;box-sizing: border-box;margin-bottom: 0.5em;}#sk-container-id-5 div.sk-estimator:hover {background-color: #d4ebff;}#sk-container-id-5 div.sk-parallel-item::after {content: \"\";width: 100%;border-bottom: 1px solid gray;flex-grow: 1;}#sk-container-id-5 div.sk-label:hover label.sk-toggleable__label {background-color: #d4ebff;}#sk-container-id-5 div.sk-serial::before {content: \"\";position: absolute;border-left: 1px solid gray;box-sizing: border-box;top: 0;bottom: 0;left: 50%;z-index: 0;}#sk-container-id-5 div.sk-serial {display: flex;flex-direction: column;align-items: center;background-color: white;padding-right: 0.2em;padding-left: 0.2em;position: relative;}#sk-container-id-5 div.sk-item {position: relative;z-index: 1;}#sk-container-id-5 div.sk-parallel {display: flex;align-items: stretch;justify-content: center;background-color: white;position: relative;}#sk-container-id-5 div.sk-item::before, #sk-container-id-5 div.sk-parallel-item::before {content: \"\";position: absolute;border-left: 1px solid gray;box-sizing: border-box;top: 0;bottom: 0;left: 50%;z-index: -1;}#sk-container-id-5 div.sk-parallel-item {display: flex;flex-direction: column;z-index: 1;position: relative;background-color: white;}#sk-container-id-5 div.sk-parallel-item:first-child::after {align-self: flex-end;width: 50%;}#sk-container-id-5 div.sk-parallel-item:last-child::after {align-self: flex-start;width: 50%;}#sk-container-id-5 div.sk-parallel-item:only-child::after {width: 0;}#sk-container-id-5 div.sk-dashed-wrapped {border: 1px dashed gray;margin: 0 0.4em 0.5em 0.4em;box-sizing: border-box;padding-bottom: 0.4em;background-color: white;}#sk-container-id-5 div.sk-label label {font-family: monospace;font-weight: bold;display: inline-block;line-height: 1.2em;}#sk-container-id-5 div.sk-label-container {text-align: center;}#sk-container-id-5 div.sk-container {/* jupyter's `normalize.less` sets `[hidden] { display: none; }` but bootstrap.min.css set `[hidden] { display: none !important; }` so we also need the `!important` here to be able to override the default hidden behavior on the sphinx rendered scikit-learn.org. See: https://github.com/scikit-learn/scikit-learn/issues/21755 */display: inline-block !important;position: relative;}#sk-container-id-5 div.sk-text-repr-fallback {display: none;}</style><div id=\"sk-container-id-5\" class=\"sk-top-container\"><div class=\"sk-text-repr-fallback\"><pre>RandomForestRegressor(random_state=42)</pre><b>In a Jupyter environment, please rerun this cell to show the HTML representation or trust the notebook. <br />On GitHub, the HTML representation is unable to render, please try loading this page with nbviewer.org.</b></div><div class=\"sk-container\" hidden><div class=\"sk-item\"><div class=\"sk-estimator sk-toggleable\"><input class=\"sk-toggleable__control sk-hidden--visually\" id=\"sk-estimator-id-5\" type=\"checkbox\" checked><label for=\"sk-estimator-id-5\" class=\"sk-toggleable__label sk-toggleable__label-arrow\">RandomForestRegressor</label><div class=\"sk-toggleable__content\"><pre>RandomForestRegressor(random_state=42)</pre></div></div></div></div></div>"
            ]
          },
          "metadata": {},
          "execution_count": 143
        }
      ]
    },
    {
      "cell_type": "code",
      "source": [
        "importances = model.feature_importances_\n"
      ],
      "metadata": {
        "id": "oifjd3H0z7n0"
      },
      "execution_count": 144,
      "outputs": []
    },
    {
      "cell_type": "code",
      "source": [
        "feature_importances = pd.Series(importances, index=X.columns).sort_values(ascending=False)\n"
      ],
      "metadata": {
        "id": "-4ywMXcNz-Gk"
      },
      "execution_count": 145,
      "outputs": []
    },
    {
      "cell_type": "code",
      "source": [
        "feature_importances.head(10)\n"
      ],
      "metadata": {
        "colab": {
          "base_uri": "https://localhost:8080/"
        },
        "id": "6gEXL7l9z_oj",
        "outputId": "e1756f56-57cd-46d9-e668-d718be5dd386"
      },
      "execution_count": 146,
      "outputs": [
        {
          "output_type": "execute_result",
          "data": {
            "text/plain": [
              "FÉRFI FOCI     0.115663\n",
              "MÉTA           0.105958\n",
              "NŐI FOCI       0.077429\n",
              "KOSÁRLABDA     0.077188\n",
              "BOLC           0.068102\n",
              "TÁNCMARATON    0.048398\n",
              "NÉPTÁNC        0.039860\n",
              "CS:GO          0.039195\n",
              "JENGA          0.039095\n",
              "KARAOKE        0.038729\n",
              "dtype: float64"
            ]
          },
          "metadata": {},
          "execution_count": 146
        }
      ]
    },
    {
      "cell_type": "markdown",
      "source": [
        "# training a Random Forest Regressor"
      ],
      "metadata": {
        "id": "c712m5x_0O1l"
      }
    },
    {
      "cell_type": "code",
      "source": [
        "from sklearn.ensemble import RandomForestRegressor\n",
        "from sklearn.model_selection import train_test_split\n",
        "from sklearn.preprocessing import StandardScaler"
      ],
      "metadata": {
        "id": "Ev4wj23Z0UM7"
      },
      "execution_count": 147,
      "outputs": []
    },
    {
      "cell_type": "code",
      "source": [
        "top_features = ['FÉRFI FOCI', 'MÉTA', 'NŐI FOCI', 'KOSÁRLABDA', 'BOLC', 'TÁNCMARATON', 'NÉPTÁNC', 'CS:GO', 'JENGA', 'KARAOKE']\n",
        "X_top = df_combined[top_features]"
      ],
      "metadata": {
        "id": "0REUl2Es0VkU"
      },
      "execution_count": 148,
      "outputs": []
    },
    {
      "cell_type": "code",
      "source": [
        "scaler = StandardScaler()\n",
        "X_top_scaled = scaler.fit_transform(X_top)"
      ],
      "metadata": {
        "id": "aoJQDgtF0XoF"
      },
      "execution_count": 149,
      "outputs": []
    },
    {
      "cell_type": "code",
      "source": [
        "y = df_combined['ÖSSZESEN']"
      ],
      "metadata": {
        "id": "NIz3jQgQ0aUk"
      },
      "execution_count": 150,
      "outputs": []
    },
    {
      "cell_type": "code",
      "source": [
        "X_train_top, X_test_top, y_train, y_test = train_test_split(X_top_scaled, y, test_size=0.2, random_state=42)\n"
      ],
      "metadata": {
        "id": "6Ey36Bnm0csA"
      },
      "execution_count": 151,
      "outputs": []
    },
    {
      "cell_type": "code",
      "source": [
        "model_top = RandomForestRegressor(random_state=42)\n",
        "model_top.fit(X_train_top, y_train)"
      ],
      "metadata": {
        "colab": {
          "base_uri": "https://localhost:8080/",
          "height": 75
        },
        "id": "MuQKICI80ezF",
        "outputId": "3bc0305a-12e7-423c-d06a-078136f8c614"
      },
      "execution_count": 152,
      "outputs": [
        {
          "output_type": "execute_result",
          "data": {
            "text/plain": [
              "RandomForestRegressor(random_state=42)"
            ],
            "text/html": [
              "<style>#sk-container-id-6 {color: black;background-color: white;}#sk-container-id-6 pre{padding: 0;}#sk-container-id-6 div.sk-toggleable {background-color: white;}#sk-container-id-6 label.sk-toggleable__label {cursor: pointer;display: block;width: 100%;margin-bottom: 0;padding: 0.3em;box-sizing: border-box;text-align: center;}#sk-container-id-6 label.sk-toggleable__label-arrow:before {content: \"▸\";float: left;margin-right: 0.25em;color: #696969;}#sk-container-id-6 label.sk-toggleable__label-arrow:hover:before {color: black;}#sk-container-id-6 div.sk-estimator:hover label.sk-toggleable__label-arrow:before {color: black;}#sk-container-id-6 div.sk-toggleable__content {max-height: 0;max-width: 0;overflow: hidden;text-align: left;background-color: #f0f8ff;}#sk-container-id-6 div.sk-toggleable__content pre {margin: 0.2em;color: black;border-radius: 0.25em;background-color: #f0f8ff;}#sk-container-id-6 input.sk-toggleable__control:checked~div.sk-toggleable__content {max-height: 200px;max-width: 100%;overflow: auto;}#sk-container-id-6 input.sk-toggleable__control:checked~label.sk-toggleable__label-arrow:before {content: \"▾\";}#sk-container-id-6 div.sk-estimator input.sk-toggleable__control:checked~label.sk-toggleable__label {background-color: #d4ebff;}#sk-container-id-6 div.sk-label input.sk-toggleable__control:checked~label.sk-toggleable__label {background-color: #d4ebff;}#sk-container-id-6 input.sk-hidden--visually {border: 0;clip: rect(1px 1px 1px 1px);clip: rect(1px, 1px, 1px, 1px);height: 1px;margin: -1px;overflow: hidden;padding: 0;position: absolute;width: 1px;}#sk-container-id-6 div.sk-estimator {font-family: monospace;background-color: #f0f8ff;border: 1px dotted black;border-radius: 0.25em;box-sizing: border-box;margin-bottom: 0.5em;}#sk-container-id-6 div.sk-estimator:hover {background-color: #d4ebff;}#sk-container-id-6 div.sk-parallel-item::after {content: \"\";width: 100%;border-bottom: 1px solid gray;flex-grow: 1;}#sk-container-id-6 div.sk-label:hover label.sk-toggleable__label {background-color: #d4ebff;}#sk-container-id-6 div.sk-serial::before {content: \"\";position: absolute;border-left: 1px solid gray;box-sizing: border-box;top: 0;bottom: 0;left: 50%;z-index: 0;}#sk-container-id-6 div.sk-serial {display: flex;flex-direction: column;align-items: center;background-color: white;padding-right: 0.2em;padding-left: 0.2em;position: relative;}#sk-container-id-6 div.sk-item {position: relative;z-index: 1;}#sk-container-id-6 div.sk-parallel {display: flex;align-items: stretch;justify-content: center;background-color: white;position: relative;}#sk-container-id-6 div.sk-item::before, #sk-container-id-6 div.sk-parallel-item::before {content: \"\";position: absolute;border-left: 1px solid gray;box-sizing: border-box;top: 0;bottom: 0;left: 50%;z-index: -1;}#sk-container-id-6 div.sk-parallel-item {display: flex;flex-direction: column;z-index: 1;position: relative;background-color: white;}#sk-container-id-6 div.sk-parallel-item:first-child::after {align-self: flex-end;width: 50%;}#sk-container-id-6 div.sk-parallel-item:last-child::after {align-self: flex-start;width: 50%;}#sk-container-id-6 div.sk-parallel-item:only-child::after {width: 0;}#sk-container-id-6 div.sk-dashed-wrapped {border: 1px dashed gray;margin: 0 0.4em 0.5em 0.4em;box-sizing: border-box;padding-bottom: 0.4em;background-color: white;}#sk-container-id-6 div.sk-label label {font-family: monospace;font-weight: bold;display: inline-block;line-height: 1.2em;}#sk-container-id-6 div.sk-label-container {text-align: center;}#sk-container-id-6 div.sk-container {/* jupyter's `normalize.less` sets `[hidden] { display: none; }` but bootstrap.min.css set `[hidden] { display: none !important; }` so we also need the `!important` here to be able to override the default hidden behavior on the sphinx rendered scikit-learn.org. See: https://github.com/scikit-learn/scikit-learn/issues/21755 */display: inline-block !important;position: relative;}#sk-container-id-6 div.sk-text-repr-fallback {display: none;}</style><div id=\"sk-container-id-6\" class=\"sk-top-container\"><div class=\"sk-text-repr-fallback\"><pre>RandomForestRegressor(random_state=42)</pre><b>In a Jupyter environment, please rerun this cell to show the HTML representation or trust the notebook. <br />On GitHub, the HTML representation is unable to render, please try loading this page with nbviewer.org.</b></div><div class=\"sk-container\" hidden><div class=\"sk-item\"><div class=\"sk-estimator sk-toggleable\"><input class=\"sk-toggleable__control sk-hidden--visually\" id=\"sk-estimator-id-6\" type=\"checkbox\" checked><label for=\"sk-estimator-id-6\" class=\"sk-toggleable__label sk-toggleable__label-arrow\">RandomForestRegressor</label><div class=\"sk-toggleable__content\"><pre>RandomForestRegressor(random_state=42)</pre></div></div></div></div></div>"
            ]
          },
          "metadata": {},
          "execution_count": 152
        }
      ]
    },
    {
      "cell_type": "code",
      "source": [
        "train_score = model_top.score(X_train_top, y_train)\n",
        "test_score = model_top.score(X_test_top, y_test)"
      ],
      "metadata": {
        "id": "9bYL62hw0hSK"
      },
      "execution_count": 154,
      "outputs": []
    },
    {
      "cell_type": "code",
      "source": [
        "print(f\"Training Score: {train_score}\")\n",
        "print(f\"Test Score: {test_score}\")"
      ],
      "metadata": {
        "colab": {
          "base_uri": "https://localhost:8080/"
        },
        "id": "YDEWooyD0jaI",
        "outputId": "783cc6bc-6226-4ba1-b4d8-3eb9397d4220"
      },
      "execution_count": 155,
      "outputs": [
        {
          "output_type": "stream",
          "name": "stdout",
          "text": [
            "Training Score: 0.9972397532877862\n",
            "Test Score: 0.9723992329894868\n"
          ]
        }
      ]
    },
    {
      "cell_type": "code",
      "source": [
        "model_top"
      ],
      "metadata": {
        "colab": {
          "base_uri": "https://localhost:8080/",
          "height": 75
        },
        "id": "LlGMokXYEbH2",
        "outputId": "9c8adb6e-9f4d-415f-aaee-f27a844adca1"
      },
      "execution_count": 190,
      "outputs": [
        {
          "output_type": "execute_result",
          "data": {
            "text/plain": [
              "RandomForestRegressor(random_state=42)"
            ],
            "text/html": [
              "<style>#sk-container-id-8 {color: black;background-color: white;}#sk-container-id-8 pre{padding: 0;}#sk-container-id-8 div.sk-toggleable {background-color: white;}#sk-container-id-8 label.sk-toggleable__label {cursor: pointer;display: block;width: 100%;margin-bottom: 0;padding: 0.3em;box-sizing: border-box;text-align: center;}#sk-container-id-8 label.sk-toggleable__label-arrow:before {content: \"▸\";float: left;margin-right: 0.25em;color: #696969;}#sk-container-id-8 label.sk-toggleable__label-arrow:hover:before {color: black;}#sk-container-id-8 div.sk-estimator:hover label.sk-toggleable__label-arrow:before {color: black;}#sk-container-id-8 div.sk-toggleable__content {max-height: 0;max-width: 0;overflow: hidden;text-align: left;background-color: #f0f8ff;}#sk-container-id-8 div.sk-toggleable__content pre {margin: 0.2em;color: black;border-radius: 0.25em;background-color: #f0f8ff;}#sk-container-id-8 input.sk-toggleable__control:checked~div.sk-toggleable__content {max-height: 200px;max-width: 100%;overflow: auto;}#sk-container-id-8 input.sk-toggleable__control:checked~label.sk-toggleable__label-arrow:before {content: \"▾\";}#sk-container-id-8 div.sk-estimator input.sk-toggleable__control:checked~label.sk-toggleable__label {background-color: #d4ebff;}#sk-container-id-8 div.sk-label input.sk-toggleable__control:checked~label.sk-toggleable__label {background-color: #d4ebff;}#sk-container-id-8 input.sk-hidden--visually {border: 0;clip: rect(1px 1px 1px 1px);clip: rect(1px, 1px, 1px, 1px);height: 1px;margin: -1px;overflow: hidden;padding: 0;position: absolute;width: 1px;}#sk-container-id-8 div.sk-estimator {font-family: monospace;background-color: #f0f8ff;border: 1px dotted black;border-radius: 0.25em;box-sizing: border-box;margin-bottom: 0.5em;}#sk-container-id-8 div.sk-estimator:hover {background-color: #d4ebff;}#sk-container-id-8 div.sk-parallel-item::after {content: \"\";width: 100%;border-bottom: 1px solid gray;flex-grow: 1;}#sk-container-id-8 div.sk-label:hover label.sk-toggleable__label {background-color: #d4ebff;}#sk-container-id-8 div.sk-serial::before {content: \"\";position: absolute;border-left: 1px solid gray;box-sizing: border-box;top: 0;bottom: 0;left: 50%;z-index: 0;}#sk-container-id-8 div.sk-serial {display: flex;flex-direction: column;align-items: center;background-color: white;padding-right: 0.2em;padding-left: 0.2em;position: relative;}#sk-container-id-8 div.sk-item {position: relative;z-index: 1;}#sk-container-id-8 div.sk-parallel {display: flex;align-items: stretch;justify-content: center;background-color: white;position: relative;}#sk-container-id-8 div.sk-item::before, #sk-container-id-8 div.sk-parallel-item::before {content: \"\";position: absolute;border-left: 1px solid gray;box-sizing: border-box;top: 0;bottom: 0;left: 50%;z-index: -1;}#sk-container-id-8 div.sk-parallel-item {display: flex;flex-direction: column;z-index: 1;position: relative;background-color: white;}#sk-container-id-8 div.sk-parallel-item:first-child::after {align-self: flex-end;width: 50%;}#sk-container-id-8 div.sk-parallel-item:last-child::after {align-self: flex-start;width: 50%;}#sk-container-id-8 div.sk-parallel-item:only-child::after {width: 0;}#sk-container-id-8 div.sk-dashed-wrapped {border: 1px dashed gray;margin: 0 0.4em 0.5em 0.4em;box-sizing: border-box;padding-bottom: 0.4em;background-color: white;}#sk-container-id-8 div.sk-label label {font-family: monospace;font-weight: bold;display: inline-block;line-height: 1.2em;}#sk-container-id-8 div.sk-label-container {text-align: center;}#sk-container-id-8 div.sk-container {/* jupyter's `normalize.less` sets `[hidden] { display: none; }` but bootstrap.min.css set `[hidden] { display: none !important; }` so we also need the `!important` here to be able to override the default hidden behavior on the sphinx rendered scikit-learn.org. See: https://github.com/scikit-learn/scikit-learn/issues/21755 */display: inline-block !important;position: relative;}#sk-container-id-8 div.sk-text-repr-fallback {display: none;}</style><div id=\"sk-container-id-8\" class=\"sk-top-container\"><div class=\"sk-text-repr-fallback\"><pre>RandomForestRegressor(random_state=42)</pre><b>In a Jupyter environment, please rerun this cell to show the HTML representation or trust the notebook. <br />On GitHub, the HTML representation is unable to render, please try loading this page with nbviewer.org.</b></div><div class=\"sk-container\" hidden><div class=\"sk-item\"><div class=\"sk-estimator sk-toggleable\"><input class=\"sk-toggleable__control sk-hidden--visually\" id=\"sk-estimator-id-8\" type=\"checkbox\" checked><label for=\"sk-estimator-id-8\" class=\"sk-toggleable__label sk-toggleable__label-arrow\">RandomForestRegressor</label><div class=\"sk-toggleable__content\"><pre>RandomForestRegressor(random_state=42)</pre></div></div></div></div></div>"
            ]
          },
          "metadata": {},
          "execution_count": 190
        }
      ]
    },
    {
      "cell_type": "code",
      "source": [
        "from sklearn.model_selection import train_test_split\n",
        "from sklearn.preprocessing import StandardScaler\n",
        "df_combined = pd.concat([df_2022_t, df_2023_t, df_2024], ignore_index=True, sort=False)\n",
        "for column in df_combined.columns:\n",
        "    if column != 'CSAPATNÉV':\n",
        "        df_combined[column] = pd.to_numeric(df_combined[column], errors='coerce').fillna(0)\n",
        "\n",
        "top_features = ['FÉRFI FOCI', 'MÉTA', 'NŐI FOCI', 'KOSÁRLABDA', 'BOLC', 'TÁNCMARATON', 'NÉPTÁNC', 'CS:GO', 'JENGA', 'KARAOKE']\n",
        "X_top = df_combined[top_features]\n",
        "y = df_combined['ÖSSZESEN']\n",
        "scaler = StandardScaler()\n",
        "X_top_scaled = scaler.fit_transform(X_top)\n",
        "X_train_top, X_test_top, y_train, y_test = train_test_split(X_top_scaled, y, test_size=0.2, random_state=42)"
      ],
      "metadata": {
        "id": "bGk1MTU20qgW"
      },
      "execution_count": 191,
      "outputs": []
    },
    {
      "cell_type": "code",
      "source": [
        "\n",
        "# model eddzese\n",
        "model_top = RandomForestRegressor(random_state=42)\n",
        "model_top.fit(X_train_top, y_train)"
      ],
      "metadata": {
        "colab": {
          "base_uri": "https://localhost:8080/",
          "height": 75
        },
        "id": "bvgqahsj2f52",
        "outputId": "13df1abe-9f92-4437-d97c-3d91127b182e"
      },
      "execution_count": 158,
      "outputs": [
        {
          "output_type": "execute_result",
          "data": {
            "text/plain": [
              "RandomForestRegressor(random_state=42)"
            ],
            "text/html": [
              "<style>#sk-container-id-7 {color: black;background-color: white;}#sk-container-id-7 pre{padding: 0;}#sk-container-id-7 div.sk-toggleable {background-color: white;}#sk-container-id-7 label.sk-toggleable__label {cursor: pointer;display: block;width: 100%;margin-bottom: 0;padding: 0.3em;box-sizing: border-box;text-align: center;}#sk-container-id-7 label.sk-toggleable__label-arrow:before {content: \"▸\";float: left;margin-right: 0.25em;color: #696969;}#sk-container-id-7 label.sk-toggleable__label-arrow:hover:before {color: black;}#sk-container-id-7 div.sk-estimator:hover label.sk-toggleable__label-arrow:before {color: black;}#sk-container-id-7 div.sk-toggleable__content {max-height: 0;max-width: 0;overflow: hidden;text-align: left;background-color: #f0f8ff;}#sk-container-id-7 div.sk-toggleable__content pre {margin: 0.2em;color: black;border-radius: 0.25em;background-color: #f0f8ff;}#sk-container-id-7 input.sk-toggleable__control:checked~div.sk-toggleable__content {max-height: 200px;max-width: 100%;overflow: auto;}#sk-container-id-7 input.sk-toggleable__control:checked~label.sk-toggleable__label-arrow:before {content: \"▾\";}#sk-container-id-7 div.sk-estimator input.sk-toggleable__control:checked~label.sk-toggleable__label {background-color: #d4ebff;}#sk-container-id-7 div.sk-label input.sk-toggleable__control:checked~label.sk-toggleable__label {background-color: #d4ebff;}#sk-container-id-7 input.sk-hidden--visually {border: 0;clip: rect(1px 1px 1px 1px);clip: rect(1px, 1px, 1px, 1px);height: 1px;margin: -1px;overflow: hidden;padding: 0;position: absolute;width: 1px;}#sk-container-id-7 div.sk-estimator {font-family: monospace;background-color: #f0f8ff;border: 1px dotted black;border-radius: 0.25em;box-sizing: border-box;margin-bottom: 0.5em;}#sk-container-id-7 div.sk-estimator:hover {background-color: #d4ebff;}#sk-container-id-7 div.sk-parallel-item::after {content: \"\";width: 100%;border-bottom: 1px solid gray;flex-grow: 1;}#sk-container-id-7 div.sk-label:hover label.sk-toggleable__label {background-color: #d4ebff;}#sk-container-id-7 div.sk-serial::before {content: \"\";position: absolute;border-left: 1px solid gray;box-sizing: border-box;top: 0;bottom: 0;left: 50%;z-index: 0;}#sk-container-id-7 div.sk-serial {display: flex;flex-direction: column;align-items: center;background-color: white;padding-right: 0.2em;padding-left: 0.2em;position: relative;}#sk-container-id-7 div.sk-item {position: relative;z-index: 1;}#sk-container-id-7 div.sk-parallel {display: flex;align-items: stretch;justify-content: center;background-color: white;position: relative;}#sk-container-id-7 div.sk-item::before, #sk-container-id-7 div.sk-parallel-item::before {content: \"\";position: absolute;border-left: 1px solid gray;box-sizing: border-box;top: 0;bottom: 0;left: 50%;z-index: -1;}#sk-container-id-7 div.sk-parallel-item {display: flex;flex-direction: column;z-index: 1;position: relative;background-color: white;}#sk-container-id-7 div.sk-parallel-item:first-child::after {align-self: flex-end;width: 50%;}#sk-container-id-7 div.sk-parallel-item:last-child::after {align-self: flex-start;width: 50%;}#sk-container-id-7 div.sk-parallel-item:only-child::after {width: 0;}#sk-container-id-7 div.sk-dashed-wrapped {border: 1px dashed gray;margin: 0 0.4em 0.5em 0.4em;box-sizing: border-box;padding-bottom: 0.4em;background-color: white;}#sk-container-id-7 div.sk-label label {font-family: monospace;font-weight: bold;display: inline-block;line-height: 1.2em;}#sk-container-id-7 div.sk-label-container {text-align: center;}#sk-container-id-7 div.sk-container {/* jupyter's `normalize.less` sets `[hidden] { display: none; }` but bootstrap.min.css set `[hidden] { display: none !important; }` so we also need the `!important` here to be able to override the default hidden behavior on the sphinx rendered scikit-learn.org. See: https://github.com/scikit-learn/scikit-learn/issues/21755 */display: inline-block !important;position: relative;}#sk-container-id-7 div.sk-text-repr-fallback {display: none;}</style><div id=\"sk-container-id-7\" class=\"sk-top-container\"><div class=\"sk-text-repr-fallback\"><pre>RandomForestRegressor(random_state=42)</pre><b>In a Jupyter environment, please rerun this cell to show the HTML representation or trust the notebook. <br />On GitHub, the HTML representation is unable to render, please try loading this page with nbviewer.org.</b></div><div class=\"sk-container\" hidden><div class=\"sk-item\"><div class=\"sk-estimator sk-toggleable\"><input class=\"sk-toggleable__control sk-hidden--visually\" id=\"sk-estimator-id-7\" type=\"checkbox\" checked><label for=\"sk-estimator-id-7\" class=\"sk-toggleable__label sk-toggleable__label-arrow\">RandomForestRegressor</label><div class=\"sk-toggleable__content\"><pre>RandomForestRegressor(random_state=42)</pre></div></div></div></div></div>"
            ]
          },
          "metadata": {},
          "execution_count": 158
        }
      ]
    },
    {
      "cell_type": "markdown",
      "source": [
        "# Feladatfontossag"
      ],
      "metadata": {
        "id": "L_wiopWz4FX1"
      }
    },
    {
      "cell_type": "code",
      "source": [
        "import plotly.express as px\n",
        "importances = model_top.feature_importances_\n",
        "feature_importances = pd.Series(importances, index=top_features).sort_values(ascending=True)\n",
        "\n",
        "fig = px.bar(feature_importances, x=feature_importances, y=feature_importances.index, orientation='h',\n",
        "             title='Feladat Fontossagi indexek', labels={'x':'Fontossag', 'index':'Feladatok'})\n",
        "fig.show()"
      ],
      "metadata": {
        "colab": {
          "base_uri": "https://localhost:8080/",
          "height": 542
        },
        "id": "mY51RHHO2l94",
        "outputId": "81345448-2f5e-4665-f500-dc12e8621e34"
      },
      "execution_count": 183,
      "outputs": [
        {
          "output_type": "display_data",
          "data": {
            "text/html": [
              "<html>\n",
              "<head><meta charset=\"utf-8\" /></head>\n",
              "<body>\n",
              "    <div>            <script src=\"https://cdnjs.cloudflare.com/ajax/libs/mathjax/2.7.5/MathJax.js?config=TeX-AMS-MML_SVG\"></script><script type=\"text/javascript\">if (window.MathJax && window.MathJax.Hub && window.MathJax.Hub.Config) {window.MathJax.Hub.Config({SVG: {font: \"STIX-Web\"}});}</script>                <script type=\"text/javascript\">window.PlotlyConfig = {MathJaxConfig: 'local'};</script>\n",
              "        <script charset=\"utf-8\" src=\"https://cdn.plot.ly/plotly-2.24.1.min.js\"></script>                <div id=\"bb3c78a9-acd0-4540-9789-23e526d35756\" class=\"plotly-graph-div\" style=\"height:525px; width:100%;\"></div>            <script type=\"text/javascript\">                                    window.PLOTLYENV=window.PLOTLYENV || {};                                    if (document.getElementById(\"bb3c78a9-acd0-4540-9789-23e526d35756\")) {                    Plotly.newPlot(                        \"bb3c78a9-acd0-4540-9789-23e526d35756\",                        [{\"alignmentgroup\":\"True\",\"hovertemplate\":\"Fontossag=%{x}\\u003cbr\\u003eFeladatok=%{y}\\u003cextra\\u003e\\u003c\\u002fextra\\u003e\",\"legendgroup\":\"\",\"marker\":{\"color\":\"#636efa\",\"pattern\":{\"shape\":\"\"}},\"name\":\"\",\"offsetgroup\":\"\",\"orientation\":\"h\",\"showlegend\":false,\"textposition\":\"auto\",\"x\":[0.03490030596666344,0.06913156894788251,0.07851116694647649,0.08129002552637705,0.09157586877532796,0.10710530814558607,0.1256098072008067,0.1262261790041486,0.1394054944678513,0.14624427501888007],\"xaxis\":\"x\",\"y\":[\"T\\u00c1NCMARATON\",\"CS:GO\",\"N\\u0150I FOCI\",\"JENGA\",\"M\\u00c9TA\",\"KARAOKE\",\"N\\u00c9PT\\u00c1NC\",\"F\\u00c9RFI FOCI\",\"BOLC\",\"KOS\\u00c1RLABDA\"],\"yaxis\":\"y\",\"type\":\"bar\"}],                        {\"template\":{\"data\":{\"histogram2dcontour\":[{\"type\":\"histogram2dcontour\",\"colorbar\":{\"outlinewidth\":0,\"ticks\":\"\"},\"colorscale\":[[0.0,\"#0d0887\"],[0.1111111111111111,\"#46039f\"],[0.2222222222222222,\"#7201a8\"],[0.3333333333333333,\"#9c179e\"],[0.4444444444444444,\"#bd3786\"],[0.5555555555555556,\"#d8576b\"],[0.6666666666666666,\"#ed7953\"],[0.7777777777777778,\"#fb9f3a\"],[0.8888888888888888,\"#fdca26\"],[1.0,\"#f0f921\"]]}],\"choropleth\":[{\"type\":\"choropleth\",\"colorbar\":{\"outlinewidth\":0,\"ticks\":\"\"}}],\"histogram2d\":[{\"type\":\"histogram2d\",\"colorbar\":{\"outlinewidth\":0,\"ticks\":\"\"},\"colorscale\":[[0.0,\"#0d0887\"],[0.1111111111111111,\"#46039f\"],[0.2222222222222222,\"#7201a8\"],[0.3333333333333333,\"#9c179e\"],[0.4444444444444444,\"#bd3786\"],[0.5555555555555556,\"#d8576b\"],[0.6666666666666666,\"#ed7953\"],[0.7777777777777778,\"#fb9f3a\"],[0.8888888888888888,\"#fdca26\"],[1.0,\"#f0f921\"]]}],\"heatmap\":[{\"type\":\"heatmap\",\"colorbar\":{\"outlinewidth\":0,\"ticks\":\"\"},\"colorscale\":[[0.0,\"#0d0887\"],[0.1111111111111111,\"#46039f\"],[0.2222222222222222,\"#7201a8\"],[0.3333333333333333,\"#9c179e\"],[0.4444444444444444,\"#bd3786\"],[0.5555555555555556,\"#d8576b\"],[0.6666666666666666,\"#ed7953\"],[0.7777777777777778,\"#fb9f3a\"],[0.8888888888888888,\"#fdca26\"],[1.0,\"#f0f921\"]]}],\"heatmapgl\":[{\"type\":\"heatmapgl\",\"colorbar\":{\"outlinewidth\":0,\"ticks\":\"\"},\"colorscale\":[[0.0,\"#0d0887\"],[0.1111111111111111,\"#46039f\"],[0.2222222222222222,\"#7201a8\"],[0.3333333333333333,\"#9c179e\"],[0.4444444444444444,\"#bd3786\"],[0.5555555555555556,\"#d8576b\"],[0.6666666666666666,\"#ed7953\"],[0.7777777777777778,\"#fb9f3a\"],[0.8888888888888888,\"#fdca26\"],[1.0,\"#f0f921\"]]}],\"contourcarpet\":[{\"type\":\"contourcarpet\",\"colorbar\":{\"outlinewidth\":0,\"ticks\":\"\"}}],\"contour\":[{\"type\":\"contour\",\"colorbar\":{\"outlinewidth\":0,\"ticks\":\"\"},\"colorscale\":[[0.0,\"#0d0887\"],[0.1111111111111111,\"#46039f\"],[0.2222222222222222,\"#7201a8\"],[0.3333333333333333,\"#9c179e\"],[0.4444444444444444,\"#bd3786\"],[0.5555555555555556,\"#d8576b\"],[0.6666666666666666,\"#ed7953\"],[0.7777777777777778,\"#fb9f3a\"],[0.8888888888888888,\"#fdca26\"],[1.0,\"#f0f921\"]]}],\"surface\":[{\"type\":\"surface\",\"colorbar\":{\"outlinewidth\":0,\"ticks\":\"\"},\"colorscale\":[[0.0,\"#0d0887\"],[0.1111111111111111,\"#46039f\"],[0.2222222222222222,\"#7201a8\"],[0.3333333333333333,\"#9c179e\"],[0.4444444444444444,\"#bd3786\"],[0.5555555555555556,\"#d8576b\"],[0.6666666666666666,\"#ed7953\"],[0.7777777777777778,\"#fb9f3a\"],[0.8888888888888888,\"#fdca26\"],[1.0,\"#f0f921\"]]}],\"mesh3d\":[{\"type\":\"mesh3d\",\"colorbar\":{\"outlinewidth\":0,\"ticks\":\"\"}}],\"scatter\":[{\"fillpattern\":{\"fillmode\":\"overlay\",\"size\":10,\"solidity\":0.2},\"type\":\"scatter\"}],\"parcoords\":[{\"type\":\"parcoords\",\"line\":{\"colorbar\":{\"outlinewidth\":0,\"ticks\":\"\"}}}],\"scatterpolargl\":[{\"type\":\"scatterpolargl\",\"marker\":{\"colorbar\":{\"outlinewidth\":0,\"ticks\":\"\"}}}],\"bar\":[{\"error_x\":{\"color\":\"#2a3f5f\"},\"error_y\":{\"color\":\"#2a3f5f\"},\"marker\":{\"line\":{\"color\":\"#E5ECF6\",\"width\":0.5},\"pattern\":{\"fillmode\":\"overlay\",\"size\":10,\"solidity\":0.2}},\"type\":\"bar\"}],\"scattergeo\":[{\"type\":\"scattergeo\",\"marker\":{\"colorbar\":{\"outlinewidth\":0,\"ticks\":\"\"}}}],\"scatterpolar\":[{\"type\":\"scatterpolar\",\"marker\":{\"colorbar\":{\"outlinewidth\":0,\"ticks\":\"\"}}}],\"histogram\":[{\"marker\":{\"pattern\":{\"fillmode\":\"overlay\",\"size\":10,\"solidity\":0.2}},\"type\":\"histogram\"}],\"scattergl\":[{\"type\":\"scattergl\",\"marker\":{\"colorbar\":{\"outlinewidth\":0,\"ticks\":\"\"}}}],\"scatter3d\":[{\"type\":\"scatter3d\",\"line\":{\"colorbar\":{\"outlinewidth\":0,\"ticks\":\"\"}},\"marker\":{\"colorbar\":{\"outlinewidth\":0,\"ticks\":\"\"}}}],\"scattermapbox\":[{\"type\":\"scattermapbox\",\"marker\":{\"colorbar\":{\"outlinewidth\":0,\"ticks\":\"\"}}}],\"scatterternary\":[{\"type\":\"scatterternary\",\"marker\":{\"colorbar\":{\"outlinewidth\":0,\"ticks\":\"\"}}}],\"scattercarpet\":[{\"type\":\"scattercarpet\",\"marker\":{\"colorbar\":{\"outlinewidth\":0,\"ticks\":\"\"}}}],\"carpet\":[{\"aaxis\":{\"endlinecolor\":\"#2a3f5f\",\"gridcolor\":\"white\",\"linecolor\":\"white\",\"minorgridcolor\":\"white\",\"startlinecolor\":\"#2a3f5f\"},\"baxis\":{\"endlinecolor\":\"#2a3f5f\",\"gridcolor\":\"white\",\"linecolor\":\"white\",\"minorgridcolor\":\"white\",\"startlinecolor\":\"#2a3f5f\"},\"type\":\"carpet\"}],\"table\":[{\"cells\":{\"fill\":{\"color\":\"#EBF0F8\"},\"line\":{\"color\":\"white\"}},\"header\":{\"fill\":{\"color\":\"#C8D4E3\"},\"line\":{\"color\":\"white\"}},\"type\":\"table\"}],\"barpolar\":[{\"marker\":{\"line\":{\"color\":\"#E5ECF6\",\"width\":0.5},\"pattern\":{\"fillmode\":\"overlay\",\"size\":10,\"solidity\":0.2}},\"type\":\"barpolar\"}],\"pie\":[{\"automargin\":true,\"type\":\"pie\"}]},\"layout\":{\"autotypenumbers\":\"strict\",\"colorway\":[\"#636efa\",\"#EF553B\",\"#00cc96\",\"#ab63fa\",\"#FFA15A\",\"#19d3f3\",\"#FF6692\",\"#B6E880\",\"#FF97FF\",\"#FECB52\"],\"font\":{\"color\":\"#2a3f5f\"},\"hovermode\":\"closest\",\"hoverlabel\":{\"align\":\"left\"},\"paper_bgcolor\":\"white\",\"plot_bgcolor\":\"#E5ECF6\",\"polar\":{\"bgcolor\":\"#E5ECF6\",\"angularaxis\":{\"gridcolor\":\"white\",\"linecolor\":\"white\",\"ticks\":\"\"},\"radialaxis\":{\"gridcolor\":\"white\",\"linecolor\":\"white\",\"ticks\":\"\"}},\"ternary\":{\"bgcolor\":\"#E5ECF6\",\"aaxis\":{\"gridcolor\":\"white\",\"linecolor\":\"white\",\"ticks\":\"\"},\"baxis\":{\"gridcolor\":\"white\",\"linecolor\":\"white\",\"ticks\":\"\"},\"caxis\":{\"gridcolor\":\"white\",\"linecolor\":\"white\",\"ticks\":\"\"}},\"coloraxis\":{\"colorbar\":{\"outlinewidth\":0,\"ticks\":\"\"}},\"colorscale\":{\"sequential\":[[0.0,\"#0d0887\"],[0.1111111111111111,\"#46039f\"],[0.2222222222222222,\"#7201a8\"],[0.3333333333333333,\"#9c179e\"],[0.4444444444444444,\"#bd3786\"],[0.5555555555555556,\"#d8576b\"],[0.6666666666666666,\"#ed7953\"],[0.7777777777777778,\"#fb9f3a\"],[0.8888888888888888,\"#fdca26\"],[1.0,\"#f0f921\"]],\"sequentialminus\":[[0.0,\"#0d0887\"],[0.1111111111111111,\"#46039f\"],[0.2222222222222222,\"#7201a8\"],[0.3333333333333333,\"#9c179e\"],[0.4444444444444444,\"#bd3786\"],[0.5555555555555556,\"#d8576b\"],[0.6666666666666666,\"#ed7953\"],[0.7777777777777778,\"#fb9f3a\"],[0.8888888888888888,\"#fdca26\"],[1.0,\"#f0f921\"]],\"diverging\":[[0,\"#8e0152\"],[0.1,\"#c51b7d\"],[0.2,\"#de77ae\"],[0.3,\"#f1b6da\"],[0.4,\"#fde0ef\"],[0.5,\"#f7f7f7\"],[0.6,\"#e6f5d0\"],[0.7,\"#b8e186\"],[0.8,\"#7fbc41\"],[0.9,\"#4d9221\"],[1,\"#276419\"]]},\"xaxis\":{\"gridcolor\":\"white\",\"linecolor\":\"white\",\"ticks\":\"\",\"title\":{\"standoff\":15},\"zerolinecolor\":\"white\",\"automargin\":true,\"zerolinewidth\":2},\"yaxis\":{\"gridcolor\":\"white\",\"linecolor\":\"white\",\"ticks\":\"\",\"title\":{\"standoff\":15},\"zerolinecolor\":\"white\",\"automargin\":true,\"zerolinewidth\":2},\"scene\":{\"xaxis\":{\"backgroundcolor\":\"#E5ECF6\",\"gridcolor\":\"white\",\"linecolor\":\"white\",\"showbackground\":true,\"ticks\":\"\",\"zerolinecolor\":\"white\",\"gridwidth\":2},\"yaxis\":{\"backgroundcolor\":\"#E5ECF6\",\"gridcolor\":\"white\",\"linecolor\":\"white\",\"showbackground\":true,\"ticks\":\"\",\"zerolinecolor\":\"white\",\"gridwidth\":2},\"zaxis\":{\"backgroundcolor\":\"#E5ECF6\",\"gridcolor\":\"white\",\"linecolor\":\"white\",\"showbackground\":true,\"ticks\":\"\",\"zerolinecolor\":\"white\",\"gridwidth\":2}},\"shapedefaults\":{\"line\":{\"color\":\"#2a3f5f\"}},\"annotationdefaults\":{\"arrowcolor\":\"#2a3f5f\",\"arrowhead\":0,\"arrowwidth\":1},\"geo\":{\"bgcolor\":\"white\",\"landcolor\":\"#E5ECF6\",\"subunitcolor\":\"white\",\"showland\":true,\"showlakes\":true,\"lakecolor\":\"white\"},\"title\":{\"x\":0.05},\"mapbox\":{\"style\":\"light\"}}},\"xaxis\":{\"anchor\":\"y\",\"domain\":[0.0,1.0],\"title\":{\"text\":\"Fontossag\"}},\"yaxis\":{\"anchor\":\"x\",\"domain\":[0.0,1.0],\"title\":{\"text\":\"Feladatok\"}},\"legend\":{\"tracegroupgap\":0},\"title\":{\"text\":\"Feladat Fontossagi indexek\"},\"barmode\":\"relative\"},                        {\"responsive\": true}                    ).then(function(){\n",
              "                            \n",
              "var gd = document.getElementById('bb3c78a9-acd0-4540-9789-23e526d35756');\n",
              "var x = new MutationObserver(function (mutations, observer) {{\n",
              "        var display = window.getComputedStyle(gd).display;\n",
              "        if (!display || display === 'none') {{\n",
              "            console.log([gd, 'removed!']);\n",
              "            Plotly.purge(gd);\n",
              "            observer.disconnect();\n",
              "        }}\n",
              "}});\n",
              "\n",
              "// Listen for the removal of the full notebook cells\n",
              "var notebookContainer = gd.closest('#notebook-container');\n",
              "if (notebookContainer) {{\n",
              "    x.observe(notebookContainer, {childList: true});\n",
              "}}\n",
              "\n",
              "// Listen for the clearing of the current output cell\n",
              "var outputEl = gd.closest('.output');\n",
              "if (outputEl) {{\n",
              "    x.observe(outputEl, {childList: true});\n",
              "}}\n",
              "\n",
              "                        })                };                            </script>        </div>\n",
              "</body>\n",
              "</html>"
            ]
          },
          "metadata": {}
        }
      ]
    },
    {
      "cell_type": "markdown",
      "source": [
        "# korrelacio heatmap"
      ],
      "metadata": {
        "id": "u9LUcbIH3_XD"
      }
    },
    {
      "cell_type": "code",
      "source": [
        "# korrelacio heatmap\n",
        "plt.figure(figsize=(12, 8))\n",
        "correlation_matrix = df_combined[top_features + ['ÖSSZESEN']].corr()\n",
        "sns.heatmap(correlation_matrix, annot=True, cmap='coolwarm', fmt='.2f')\n",
        "plt.title('Correlation Heatmap')\n",
        "plt.show()"
      ],
      "metadata": {
        "colab": {
          "base_uri": "https://localhost:8080/",
          "height": 790
        },
        "id": "pI6dvoGw2tiw",
        "outputId": "f1b8bda3-5cf7-40b1-e5ac-417a925b00b2"
      },
      "execution_count": 160,
      "outputs": [
        {
          "output_type": "display_data",
          "data": {
            "text/plain": [
              "<Figure size 1200x800 with 2 Axes>"
            ],
            "image/png": "[encoded data removed]"
          },
          "metadata": {}
        }
      ]
    },
    {
      "cell_type": "markdown",
      "source": [
        "# adatelokeszites a js vizualizaciokhoz"
      ],
      "metadata": {
        "id": "KbpftGuh4Url"
      }
    },
    {
      "cell_type": "code",
      "source": [
        "import pandas as pd\n",
        "\n",
        "# Convert all scores to numeric, filling NaNs with 0\n",
        "for column in df_2022_t.columns:\n",
        "    if column != 'CSAPATNÉV':\n",
        "        df_2022_t[column] = pd.to_numeric(df_2022_t[column], errors='coerce').fillna(0)\n",
        "for column in df_2023_t.columns:\n",
        "    if column != 'CSAPATNÉV':\n",
        "        df_2023_t[column] = pd.to_numeric(df_2023_t[column], errors='coerce').fillna(0)\n",
        "for column in df_2024.columns:\n",
        "    if column != 'CSAPATNÉV':\n",
        "        df_2024[column] = pd.to_numeric(df_2024[column], errors='coerce').fillna(0)\n",
        "\n",
        "# Concatenate the DataFrames\n",
        "df_combined = pd.concat([df_2022_t, df_2023_t, df_2024], ignore_index=True, sort=False)\n",
        "\n",
        "# Display the combined dataframe\n",
        "df_combined.head()"
      ],
      "metadata": {
        "colab": {
          "base_uri": "https://localhost:8080/",
          "height": 273
        },
        "id": "bpz8pbOO4di1",
        "outputId": "d9989577-3eac-4288-be5f-321fe6fd80d6"
      },
      "execution_count": 169,
      "outputs": [
        {
          "output_type": "execute_result",
          "data": {
            "text/plain": [
              "  CSAPATNÉV  Asztalitenisz  Beer-Pong  Bemutatkozó  Biliárd  Bogrács   Bolc  \\\n",
              "0  Zsákmány           25.0       90.0        128.0     20.0    106.0  155.0   \n",
              "1   WhatsOn           50.0      170.0        120.0     30.0     85.0   46.0   \n",
              "2  WeSithek           50.0       50.0         75.0     30.0     90.0   75.0   \n",
              "3   Weedrák           25.0       50.0        225.0    100.0     93.0   44.0   \n",
              "4  WaTtaFák           75.0       90.0        208.0     20.0     98.0   40.0   \n",
              "\n",
              "   Chandelier  Chest-Pong  City Tour  ...  PC:LOL  PÓKER  RÖPI  SAKK  SLAM  \\\n",
              "0        60.0        50.0      247.0  ...     NaN    NaN   NaN   NaN   NaN   \n",
              "1        70.0        90.0      147.0  ...     NaN    NaN   NaN   NaN   NaN   \n",
              "2       180.0       130.0      153.0  ...     NaN    NaN   NaN   NaN   NaN   \n",
              "3        50.0        50.0      116.0  ...     NaN    NaN   NaN   NaN   NaN   \n",
              "4        30.0        50.0      246.0  ...     NaN    NaN   NaN   NaN   NaN   \n",
              "\n",
              "   STAFÉTA  SZEMÉTSZEDÉS  TÁBLÉ  TÁNCMARATON  ÚSZÁS  \n",
              "0      NaN           NaN    NaN          NaN    NaN  \n",
              "1      NaN           NaN    NaN          NaN    NaN  \n",
              "2      NaN           NaN    NaN          NaN    NaN  \n",
              "3      NaN           NaN    NaN          NaN    NaN  \n",
              "4      NaN           NaN    NaN          NaN    NaN  \n",
              "\n",
              "[5 rows x 76 columns]"
            ],
            "text/html": [
              "\n",
              "  <div id=\"df-86061feb-dcc6-4bc2-a579-ed343bd09e49\" class=\"colab-df-container\">\n",
              "    <div>\n",
              "<style scoped>\n",
              "    .dataframe tbody tr th:only-of-type {\n",
              "        vertical-align: middle;\n",
              "    }\n",
              "\n",
              "    .dataframe tbody tr th {\n",
              "        vertical-align: top;\n",
              "    }\n",
              "\n",
              "    .dataframe thead th {\n",
              "        text-align: right;\n",
              "    }\n",
              "</style>\n",
              "<table border=\"1\" class=\"dataframe\">\n",
              "  <thead>\n",
              "    <tr style=\"text-align: right;\">\n",
              "      <th></th>\n",
              "      <th>CSAPATNÉV</th>\n",
              "      <th>Asztalitenisz</th>\n",
              "      <th>Beer-Pong</th>\n",
              "      <th>Bemutatkozó</th>\n",
              "      <th>Biliárd</th>\n",
              "      <th>Bogrács</th>\n",
              "      <th>Bolc</th>\n",
              "      <th>Chandelier</th>\n",
              "      <th>Chest-Pong</th>\n",
              "      <th>City Tour</th>\n",
              "      <th>...</th>\n",
              "      <th>PC:LOL</th>\n",
              "      <th>PÓKER</th>\n",
              "      <th>RÖPI</th>\n",
              "      <th>SAKK</th>\n",
              "      <th>SLAM</th>\n",
              "      <th>STAFÉTA</th>\n",
              "      <th>SZEMÉTSZEDÉS</th>\n",
              "      <th>TÁBLÉ</th>\n",
              "      <th>TÁNCMARATON</th>\n",
              "      <th>ÚSZÁS</th>\n",
              "    </tr>\n",
              "  </thead>\n",
              "  <tbody>\n",
              "    <tr>\n",
              "      <th>0</th>\n",
              "      <td>Zsákmány</td>\n",
              "      <td>25.0</td>\n",
              "      <td>90.0</td>\n",
              "      <td>128.0</td>\n",
              "      <td>20.0</td>\n",
              "      <td>106.0</td>\n",
              "      <td>155.0</td>\n",
              "      <td>60.0</td>\n",
              "      <td>50.0</td>\n",
              "      <td>247.0</td>\n",
              "      <td>...</td>\n",
              "      <td>NaN</td>\n",
              "      <td>NaN</td>\n",
              "      <td>NaN</td>\n",
              "      <td>NaN</td>\n",
              "      <td>NaN</td>\n",
              "      <td>NaN</td>\n",
              "      <td>NaN</td>\n",
              "      <td>NaN</td>\n",
              "      <td>NaN</td>\n",
              "      <td>NaN</td>\n",
              "    </tr>\n",
              "    <tr>\n",
              "      <th>1</th>\n",
              "      <td>WhatsOn</td>\n",
              "      <td>50.0</td>\n",
              "      <td>170.0</td>\n",
              "      <td>120.0</td>\n",
              "      <td>30.0</td>\n",
              "      <td>85.0</td>\n",
              "      <td>46.0</td>\n",
              "      <td>70.0</td>\n",
              "      <td>90.0</td>\n",
              "      <td>147.0</td>\n",
              "      <td>...</td>\n",
              "      <td>NaN</td>\n",
              "      <td>NaN</td>\n",
              "      <td>NaN</td>\n",
              "      <td>NaN</td>\n",
              "      <td>NaN</td>\n",
              "      <td>NaN</td>\n",
              "      <td>NaN</td>\n",
              "      <td>NaN</td>\n",
              "      <td>NaN</td>\n",
              "      <td>NaN</td>\n",
              "    </tr>\n",
              "    <tr>\n",
              "      <th>2</th>\n",
              "      <td>WeSithek</td>\n",
              "      <td>50.0</td>\n",
              "      <td>50.0</td>\n",
              "      <td>75.0</td>\n",
              "      <td>30.0</td>\n",
              "      <td>90.0</td>\n",
              "      <td>75.0</td>\n",
              "      <td>180.0</td>\n",
              "      <td>130.0</td>\n",
              "      <td>153.0</td>\n",
              "      <td>...</td>\n",
              "      <td>NaN</td>\n",
              "      <td>NaN</td>\n",
              "      <td>NaN</td>\n",
              "      <td>NaN</td>\n",
              "      <td>NaN</td>\n",
              "      <td>NaN</td>\n",
              "      <td>NaN</td>\n",
              "      <td>NaN</td>\n",
              "      <td>NaN</td>\n",
              "      <td>NaN</td>\n",
              "    </tr>\n",
              "    <tr>\n",
              "      <th>3</th>\n",
              "      <td>Weedrák</td>\n",
              "      <td>25.0</td>\n",
              "      <td>50.0</td>\n",
              "      <td>225.0</td>\n",
              "      <td>100.0</td>\n",
              "      <td>93.0</td>\n",
              "      <td>44.0</td>\n",
              "      <td>50.0</td>\n",
              "      <td>50.0</td>\n",
              "      <td>116.0</td>\n",
              "      <td>...</td>\n",
              "      <td>NaN</td>\n",
              "      <td>NaN</td>\n",
              "      <td>NaN</td>\n",
              "      <td>NaN</td>\n",
              "      <td>NaN</td>\n",
              "      <td>NaN</td>\n",
              "      <td>NaN</td>\n",
              "      <td>NaN</td>\n",
              "      <td>NaN</td>\n",
              "      <td>NaN</td>\n",
              "    </tr>\n",
              "    <tr>\n",
              "      <th>4</th>\n",
              "      <td>WaTtaFák</td>\n",
              "      <td>75.0</td>\n",
              "      <td>90.0</td>\n",
              "      <td>208.0</td>\n",
              "      <td>20.0</td>\n",
              "      <td>98.0</td>\n",
              "      <td>40.0</td>\n",
              "      <td>30.0</td>\n",
              "      <td>50.0</td>\n",
              "      <td>246.0</td>\n",
              "      <td>...</td>\n",
              "      <td>NaN</td>\n",
              "      <td>NaN</td>\n",
              "      <td>NaN</td>\n",
              "      <td>NaN</td>\n",
              "      <td>NaN</td>\n",
              "      <td>NaN</td>\n",
              "      <td>NaN</td>\n",
              "      <td>NaN</td>\n",
              "      <td>NaN</td>\n",
              "      <td>NaN</td>\n",
              "    </tr>\n",
              "  </tbody>\n",
              "</table>\n",
              "<p>5 rows × 76 columns</p>\n",
              "</div>\n",
              "    <div class=\"colab-df-buttons\">\n",
              "\n",
              "  <div class=\"colab-df-container\">\n",
              "    <button class=\"colab-df-convert\" onclick=\"convertToInteractive('df-86061feb-dcc6-4bc2-a579-ed343bd09e49')\"\n",
              "            title=\"Convert this dataframe to an interactive table.\"\n",
              "            style=\"display:none;\">\n",
              "\n",
              "  <svg xmlns=\"http://www.w3.org/2000/svg\" height=\"24px\" viewBox=\"0 -960 960 960\">\n",
              "    <path d=\"M120-120v-720h720v720H120Zm60-500h600v-160H180v160Zm220 220h160v-160H400v160Zm0 220h160v-160H400v160ZM180-400h160v-160H180v160Zm440 0h160v-160H620v160ZM180-180h160v-160H180v160Zm440 0h160v-160H620v160Z\"/>\n",
              "  </svg>\n",
              "    </button>\n",
              "\n",
              "  <style>\n",
              "    .colab-df-container {\n",
              "      display:flex;\n",
              "      gap: 12px;\n",
              "    }\n",
              "\n",
              "    .colab-df-convert {\n",
              "      background-color: #E8F0FE;\n",
              "      border: none;\n",
              "      border-radius: 50%;\n",
              "      cursor: pointer;\n",
              "      display: none;\n",
              "      fill: #1967D2;\n",
              "      height: 32px;\n",
              "      padding: 0 0 0 0;\n",
              "      width: 32px;\n",
              "    }\n",
              "\n",
              "    .colab-df-convert:hover {\n",
              "      background-color: #E2EBFA;\n",
              "      box-shadow: 0px 1px 2px rgba(60, 64, 67, 0.3), 0px 1px 3px 1px rgba(60, 64, 67, 0.15);\n",
              "      fill: #174EA6;\n",
              "    }\n",
              "\n",
              "    .colab-df-buttons div {\n",
              "      margin-bottom: 4px;\n",
              "    }\n",
              "\n",
              "    [theme=dark] .colab-df-convert {\n",
              "      background-color: #3B4455;\n",
              "      fill: #D2E3FC;\n",
              "    }\n",
              "\n",
              "    [theme=dark] .colab-df-convert:hover {\n",
              "      background-color: #434B5C;\n",
              "      box-shadow: 0px 1px 3px 1px rgba(0, 0, 0, 0.15);\n",
              "      filter: drop-shadow(0px 1px 2px rgba(0, 0, 0, 0.3));\n",
              "      fill: #FFFFFF;\n",
              "    }\n",
              "  </style>\n",
              "\n",
              "    <script>\n",
              "      const buttonEl =\n",
              "        document.querySelector('#df-86061feb-dcc6-4bc2-a579-ed343bd09e49 button.colab-df-convert');\n",
              "      buttonEl.style.display =\n",
              "        google.colab.kernel.accessAllowed ? 'block' : 'none';\n",
              "\n",
              "      async function convertToInteractive(key) {\n",
              "        const element = document.querySelector('#df-86061feb-dcc6-4bc2-a579-ed343bd09e49');\n",
              "        const dataTable =\n",
              "          await google.colab.kernel.invokeFunction('convertToInteractive',\n",
              "                                                    [key], {});\n",
              "        if (!dataTable) return;\n",
              "\n",
              "        const docLinkHtml = 'Like what you see? Visit the ' +\n",
              "          '<a target=\"_blank\" href=https://colab.research.google.com/notebooks/data_table.ipynb>data table notebook</a>'\n",
              "          + ' to learn more about interactive tables.';\n",
              "        element.innerHTML = '';\n",
              "        dataTable['output_type'] = 'display_data';\n",
              "        await google.colab.output.renderOutput(dataTable, element);\n",
              "        const docLink = document.createElement('div');\n",
              "        docLink.innerHTML = docLinkHtml;\n",
              "        element.appendChild(docLink);\n",
              "      }\n",
              "    </script>\n",
              "  </div>\n",
              "\n",
              "\n",
              "<div id=\"df-281df555-8917-475b-a7db-8200348024e0\">\n",
              "  <button class=\"colab-df-quickchart\" onclick=\"quickchart('df-281df555-8917-475b-a7db-8200348024e0')\"\n",
              "            title=\"Suggest charts\"\n",
              "            style=\"display:none;\">\n",
              "\n",
              "<svg xmlns=\"http://www.w3.org/2000/svg\" height=\"24px\"viewBox=\"0 0 24 24\"\n",
              "     width=\"24px\">\n",
              "    <g>\n",
              "        <path d=\"M19 3H5c-1.1 0-2 .9-2 2v14c0 1.1.9 2 2 2h14c1.1 0 2-.9 2-2V5c0-1.1-.9-2-2-2zM9 17H7v-7h2v7zm4 0h-2V7h2v10zm4 0h-2v-4h2v4z\"/>\n",
              "    </g>\n",
              "</svg>\n",
              "  </button>\n",
              "\n",
              "<style>\n",
              "  .colab-df-quickchart {\n",
              "      --bg-color: #E8F0FE;\n",
              "      --fill-color: #1967D2;\n",
              "      --hover-bg-color: #E2EBFA;\n",
              "      --hover-fill-color: #174EA6;\n",
              "      --disabled-fill-color: #AAA;\n",
              "      --disabled-bg-color: #DDD;\n",
              "  }\n",
              "\n",
              "  [theme=dark] .colab-df-quickchart {\n",
              "      --bg-color: #3B4455;\n",
              "      --fill-color: #D2E3FC;\n",
              "      --hover-bg-color: #434B5C;\n",
              "      --hover-fill-color: #FFFFFF;\n",
              "      --disabled-bg-color: #3B4455;\n",
              "      --disabled-fill-color: #666;\n",
              "  }\n",
              "\n",
              "  .colab-df-quickchart {\n",
              "    background-color: var(--bg-color);\n",
              "    border: none;\n",
              "    border-radius: 50%;\n",
              "    cursor: pointer;\n",
              "    display: none;\n",
              "    fill: var(--fill-color);\n",
              "    height: 32px;\n",
              "    padding: 0;\n",
              "    width: 32px;\n",
              "  }\n",
              "\n",
              "  .colab-df-quickchart:hover {\n",
              "    background-color: var(--hover-bg-color);\n",
              "    box-shadow: 0 1px 2px rgba(60, 64, 67, 0.3), 0 1px 3px 1px rgba(60, 64, 67, 0.15);\n",
              "    fill: var(--button-hover-fill-color);\n",
              "  }\n",
              "\n",
              "  .colab-df-quickchart-complete:disabled,\n",
              "  .colab-df-quickchart-complete:disabled:hover {\n",
              "    background-color: var(--disabled-bg-color);\n",
              "    fill: var(--disabled-fill-color);\n",
              "    box-shadow: none;\n",
              "  }\n",
              "\n",
              "  .colab-df-spinner {\n",
              "    border: 2px solid var(--fill-color);\n",
              "    border-color: transparent;\n",
              "    border-bottom-color: var(--fill-color);\n",
              "    animation:\n",
              "      spin 1s steps(1) infinite;\n",
              "  }\n",
              "\n",
              "  @keyframes spin {\n",
              "    0% {\n",
              "      border-color: transparent;\n",
              "      border-bottom-color: var(--fill-color);\n",
              "      border-left-color: var(--fill-color);\n",
              "    }\n",
              "    20% {\n",
              "      border-color: transparent;\n",
              "      border-left-color: var(--fill-color);\n",
              "      border-top-color: var(--fill-color);\n",
              "    }\n",
              "    30% {\n",
              "      border-color: transparent;\n",
              "      border-left-color: var(--fill-color);\n",
              "      border-top-color: var(--fill-color);\n",
              "      border-right-color: var(--fill-color);\n",
              "    }\n",
              "    40% {\n",
              "      border-color: transparent;\n",
              "      border-right-color: var(--fill-color);\n",
              "      border-top-color: var(--fill-color);\n",
              "    }\n",
              "    60% {\n",
              "      border-color: transparent;\n",
              "      border-right-color: var(--fill-color);\n",
              "    }\n",
              "    80% {\n",
              "      border-color: transparent;\n",
              "      border-right-color: var(--fill-color);\n",
              "      border-bottom-color: var(--fill-color);\n",
              "    }\n",
              "    90% {\n",
              "      border-color: transparent;\n",
              "      border-bottom-color: var(--fill-color);\n",
              "    }\n",
              "  }\n",
              "</style>\n",
              "\n",
              "  <script>\n",
              "    async function quickchart(key) {\n",
              "      const quickchartButtonEl =\n",
              "        document.querySelector('#' + key + ' button');\n",
              "      quickchartButtonEl.disabled = true;  // To prevent multiple clicks.\n",
              "      quickchartButtonEl.classList.add('colab-df-spinner');\n",
              "      try {\n",
              "        const charts = await google.colab.kernel.invokeFunction(\n",
              "            'suggestCharts', [key], {});\n",
              "      } catch (error) {\n",
              "        console.error('Error during call to suggestCharts:', error);\n",
              "      }\n",
              "      quickchartButtonEl.classList.remove('colab-df-spinner');\n",
              "      quickchartButtonEl.classList.add('colab-df-quickchart-complete');\n",
              "    }\n",
              "    (() => {\n",
              "      let quickchartButtonEl =\n",
              "        document.querySelector('#df-281df555-8917-475b-a7db-8200348024e0 button');\n",
              "      quickchartButtonEl.style.display =\n",
              "        google.colab.kernel.accessAllowed ? 'block' : 'none';\n",
              "    })();\n",
              "  </script>\n",
              "</div>\n",
              "    </div>\n",
              "  </div>\n"
            ],
            "application/vnd.google.colaboratory.intrinsic+json": {
              "type": "dataframe",
              "variable_name": "df_combined"
            }
          },
          "metadata": {},
          "execution_count": 169
        }
      ]
    },
    {
      "cell_type": "markdown",
      "source": [
        "# Parhuzamos Kordinatak csapat teljesitmenyre"
      ],
      "metadata": {
        "id": "9gZNIqAI5mlq"
      }
    },
    {
      "cell_type": "code",
      "source": [
        "import plotly.express as px\n",
        "top_5_teams = df_combined.nlargest(100, 'ÖSSZESEN')\n",
        "fig = px.parallel_coordinates(top_5_teams, dimensions=['FÉRFI FOCI', 'MÉTA', 'NŐI FOCI', 'KOSÁRLABDA', 'ÖSSZESEN'],\n",
        "                              color='ÖSSZESEN', title='Parhuzamos Kordinatak csapat teljesitmenyre')\n",
        "fig.show()"
      ],
      "metadata": {
        "colab": {
          "base_uri": "https://localhost:8080/",
          "height": 542
        },
        "id": "ScZFXmOk79JH",
        "outputId": "16e24a02-d387-4ea3-f53d-799dab568c74"
      },
      "execution_count": 193,
      "outputs": [
        {
          "output_type": "display_data",
          "data": {
            "text/html": [
              "<html>\n",
              "<head><meta charset=\"utf-8\" /></head>\n",
              "<body>\n",
              "    <div>            <script src=\"https://cdnjs.cloudflare.com/ajax/libs/mathjax/2.7.5/MathJax.js?config=TeX-AMS-MML_SVG\"></script><script type=\"text/javascript\">if (window.MathJax && window.MathJax.Hub && window.MathJax.Hub.Config) {window.MathJax.Hub.Config({SVG: {font: \"STIX-Web\"}});}</script>                <script type=\"text/javascript\">window.PlotlyConfig = {MathJaxConfig: 'local'};</script>\n",
              "        <script charset=\"utf-8\" src=\"https://cdn.plot.ly/plotly-2.24.1.min.js\"></script>                <div id=\"cdd089ef-6aba-4201-8e15-62a7a1d0cd12\" class=\"plotly-graph-div\" style=\"height:525px; width:100%;\"></div>            <script type=\"text/javascript\">                                    window.PLOTLYENV=window.PLOTLYENV || {};                                    if (document.getElementById(\"cdd089ef-6aba-4201-8e15-62a7a1d0cd12\")) {                    Plotly.newPlot(                        \"cdd089ef-6aba-4201-8e15-62a7a1d0cd12\",                        [{\"dimensions\":[{\"label\":\"F\\u00c9RFI FOCI\",\"values\":[140.0,140.0,80.0,140.0,260.0,80.0,80.0,110.0,50.0,50.0,50.0,180.0,80.0,80.0,80.0,50.0,50.0,300.0,50.0,50.0,50.0,80.0,80.0,50.0,50.0,110.0,110.0,50.0,50.0,110.0,80.0,50.0,110.0,80.0,50.0,50.0,80.0,80.0,50.0,50.0,50.0,110.0,220.0,50.0,80.0,50.0,80.0,50.0,110.0,50.0,140.0,50.0,50.0,50.0,50.0,50.0,110.0,80.0,50.0,50.0,50.0,80.0,50.0,0.0,0.0,0.0,0.0,0.0,0.0,0.0,0.0,0.0,0.0,0.0,0.0,0.0,0.0,0.0,0.0,0.0,0.0,0.0,0.0,0.0,0.0,0.0,0.0,0.0,0.0,0.0,0.0,0.0,0.0,0.0,0.0,0.0,0.0,0.0,0.0,0.0]},{\"label\":\"M\\u00c9TA\",\"values\":[220.0,140.0,110.0,140.0,300.0,110.0,80.0,80.0,260.0,110.0,80.0,80.0,50.0,80.0,80.0,50.0,50.0,110.0,80.0,80.0,50.0,110.0,110.0,50.0,180.0,110.0,50.0,140.0,80.0,50.0,50.0,50.0,50.0,50.0,80.0,80.0,80.0,50.0,50.0,50.0,50.0,50.0,50.0,50.0,50.0,50.0,110.0,50.0,80.0,50.0,80.0,50.0,140.0,50.0,50.0,50.0,50.0,80.0,50.0,50.0,80.0,50.0,20.0,0.0,0.0,0.0,0.0,0.0,0.0,0.0,0.0,0.0,0.0,0.0,0.0,0.0,0.0,0.0,0.0,0.0,0.0,0.0,0.0,0.0,0.0,0.0,0.0,0.0,0.0,0.0,0.0,0.0,0.0,0.0,0.0,0.0,0.0,0.0,0.0,0.0]},{\"label\":\"N\\u0150I FOCI\",\"values\":[80.0,260.0,110.0,220.0,80.0,50.0,300.0,140.0,110.0,80.0,50.0,80.0,50.0,80.0,50.0,110.0,50.0,50.0,140.0,80.0,80.0,50.0,50.0,50.0,50.0,110.0,50.0,50.0,180.0,80.0,80.0,80.0,50.0,110.0,50.0,80.0,50.0,80.0,50.0,50.0,50.0,50.0,80.0,50.0,80.0,140.0,50.0,110.0,110.0,110.0,80.0,50.0,50.0,50.0,50.0,50.0,140.0,50.0,50.0,50.0,50.0,50.0,80.0,0.0,0.0,0.0,0.0,0.0,0.0,0.0,0.0,0.0,0.0,0.0,0.0,0.0,0.0,0.0,0.0,0.0,0.0,0.0,0.0,0.0,0.0,0.0,0.0,0.0,0.0,0.0,0.0,0.0,0.0,0.0,0.0,0.0,0.0,0.0,0.0,0.0]},{\"label\":\"KOS\\u00c1RLABDA\",\"values\":[300.0,50.0,50.0,140.0,110.0,110.0,50.0,50.0,140.0,140.0,50.0,110.0,80.0,50.0,80.0,50.0,50.0,50.0,80.0,50.0,50.0,220.0,80.0,80.0,50.0,80.0,80.0,140.0,80.0,50.0,180.0,80.0,110.0,50.0,80.0,80.0,260.0,50.0,110.0,50.0,50.0,50.0,110.0,50.0,50.0,50.0,80.0,50.0,50.0,50.0,110.0,50.0,50.0,20.0,80.0,50.0,80.0,50.0,50.0,80.0,80.0,50.0,80.0,0.0,0.0,0.0,0.0,0.0,0.0,0.0,0.0,0.0,0.0,0.0,0.0,0.0,0.0,0.0,0.0,0.0,0.0,0.0,0.0,0.0,0.0,0.0,0.0,0.0,0.0,0.0,0.0,0.0,0.0,0.0,0.0,0.0,0.0,0.0,0.0,0.0]},{\"label\":\"\\u00d6SSZESEN\",\"values\":[5608.0,5488.0,5277.0,4907.0,4898.0,4872.0,4778.0,4757.0,4658.0,4611.0,4609.0,4513.0,4457.0,4340.0,4290.0,4194.0,4174.0,4090.0,4084.0,4069.0,4066.0,4053.0,4052.0,4003.0,3990.0,3989.0,3986.0,3982.0,3917.0,3903.0,3894.0,3861.0,3860.0,3800.0,3799.0,3764.0,3711.0,3703.0,3693.0,3629.0,3606.0,3591.0,3573.0,3545.0,3498.0,3492.0,3462.0,3451.0,3401.0,3394.0,3343.0,3299.0,3283.0,3273.0,3225.0,3213.0,3171.0,3153.0,3101.0,3007.0,3004.0,2733.0,2689.0,1542.0,0.0,0.0,0.0,0.0,0.0,0.0,0.0,0.0,0.0,0.0,0.0,0.0,0.0,0.0,0.0,0.0,0.0,0.0,0.0,0.0,0.0,0.0,0.0,0.0,0.0,0.0,0.0,0.0,0.0,0.0,0.0,0.0,0.0,0.0,0.0,0.0]}],\"domain\":{\"x\":[0.0,1.0],\"y\":[0.0,1.0]},\"line\":{\"color\":[5608.0,5488.0,5277.0,4907.0,4898.0,4872.0,4778.0,4757.0,4658.0,4611.0,4609.0,4513.0,4457.0,4340.0,4290.0,4194.0,4174.0,4090.0,4084.0,4069.0,4066.0,4053.0,4052.0,4003.0,3990.0,3989.0,3986.0,3982.0,3917.0,3903.0,3894.0,3861.0,3860.0,3800.0,3799.0,3764.0,3711.0,3703.0,3693.0,3629.0,3606.0,3591.0,3573.0,3545.0,3498.0,3492.0,3462.0,3451.0,3401.0,3394.0,3343.0,3299.0,3283.0,3273.0,3225.0,3213.0,3171.0,3153.0,3101.0,3007.0,3004.0,2733.0,2689.0,1542.0,0.0,0.0,0.0,0.0,0.0,0.0,0.0,0.0,0.0,0.0,0.0,0.0,0.0,0.0,0.0,0.0,0.0,0.0,0.0,0.0,0.0,0.0,0.0,0.0,0.0,0.0,0.0,0.0,0.0,0.0,0.0,0.0,0.0,0.0,0.0,0.0],\"coloraxis\":\"coloraxis\"},\"name\":\"\",\"type\":\"parcoords\"}],                        {\"template\":{\"data\":{\"histogram2dcontour\":[{\"type\":\"histogram2dcontour\",\"colorbar\":{\"outlinewidth\":0,\"ticks\":\"\"},\"colorscale\":[[0.0,\"#0d0887\"],[0.1111111111111111,\"#46039f\"],[0.2222222222222222,\"#7201a8\"],[0.3333333333333333,\"#9c179e\"],[0.4444444444444444,\"#bd3786\"],[0.5555555555555556,\"#d8576b\"],[0.6666666666666666,\"#ed7953\"],[0.7777777777777778,\"#fb9f3a\"],[0.8888888888888888,\"#fdca26\"],[1.0,\"#f0f921\"]]}],\"choropleth\":[{\"type\":\"choropleth\",\"colorbar\":{\"outlinewidth\":0,\"ticks\":\"\"}}],\"histogram2d\":[{\"type\":\"histogram2d\",\"colorbar\":{\"outlinewidth\":0,\"ticks\":\"\"},\"colorscale\":[[0.0,\"#0d0887\"],[0.1111111111111111,\"#46039f\"],[0.2222222222222222,\"#7201a8\"],[0.3333333333333333,\"#9c179e\"],[0.4444444444444444,\"#bd3786\"],[0.5555555555555556,\"#d8576b\"],[0.6666666666666666,\"#ed7953\"],[0.7777777777777778,\"#fb9f3a\"],[0.8888888888888888,\"#fdca26\"],[1.0,\"#f0f921\"]]}],\"heatmap\":[{\"type\":\"heatmap\",\"colorbar\":{\"outlinewidth\":0,\"ticks\":\"\"},\"colorscale\":[[0.0,\"#0d0887\"],[0.1111111111111111,\"#46039f\"],[0.2222222222222222,\"#7201a8\"],[0.3333333333333333,\"#9c179e\"],[0.4444444444444444,\"#bd3786\"],[0.5555555555555556,\"#d8576b\"],[0.6666666666666666,\"#ed7953\"],[0.7777777777777778,\"#fb9f3a\"],[0.8888888888888888,\"#fdca26\"],[1.0,\"#f0f921\"]]}],\"heatmapgl\":[{\"type\":\"heatmapgl\",\"colorbar\":{\"outlinewidth\":0,\"ticks\":\"\"},\"colorscale\":[[0.0,\"#0d0887\"],[0.1111111111111111,\"#46039f\"],[0.2222222222222222,\"#7201a8\"],[0.3333333333333333,\"#9c179e\"],[0.4444444444444444,\"#bd3786\"],[0.5555555555555556,\"#d8576b\"],[0.6666666666666666,\"#ed7953\"],[0.7777777777777778,\"#fb9f3a\"],[0.8888888888888888,\"#fdca26\"],[1.0,\"#f0f921\"]]}],\"contourcarpet\":[{\"type\":\"contourcarpet\",\"colorbar\":{\"outlinewidth\":0,\"ticks\":\"\"}}],\"contour\":[{\"type\":\"contour\",\"colorbar\":{\"outlinewidth\":0,\"ticks\":\"\"},\"colorscale\":[[0.0,\"#0d0887\"],[0.1111111111111111,\"#46039f\"],[0.2222222222222222,\"#7201a8\"],[0.3333333333333333,\"#9c179e\"],[0.4444444444444444,\"#bd3786\"],[0.5555555555555556,\"#d8576b\"],[0.6666666666666666,\"#ed7953\"],[0.7777777777777778,\"#fb9f3a\"],[0.8888888888888888,\"#fdca26\"],[1.0,\"#f0f921\"]]}],\"surface\":[{\"type\":\"surface\",\"colorbar\":{\"outlinewidth\":0,\"ticks\":\"\"},\"colorscale\":[[0.0,\"#0d0887\"],[0.1111111111111111,\"#46039f\"],[0.2222222222222222,\"#7201a8\"],[0.3333333333333333,\"#9c179e\"],[0.4444444444444444,\"#bd3786\"],[0.5555555555555556,\"#d8576b\"],[0.6666666666666666,\"#ed7953\"],[0.7777777777777778,\"#fb9f3a\"],[0.8888888888888888,\"#fdca26\"],[1.0,\"#f0f921\"]]}],\"mesh3d\":[{\"type\":\"mesh3d\",\"colorbar\":{\"outlinewidth\":0,\"ticks\":\"\"}}],\"scatter\":[{\"fillpattern\":{\"fillmode\":\"overlay\",\"size\":10,\"solidity\":0.2},\"type\":\"scatter\"}],\"parcoords\":[{\"type\":\"parcoords\",\"line\":{\"colorbar\":{\"outlinewidth\":0,\"ticks\":\"\"}}}],\"scatterpolargl\":[{\"type\":\"scatterpolargl\",\"marker\":{\"colorbar\":{\"outlinewidth\":0,\"ticks\":\"\"}}}],\"bar\":[{\"error_x\":{\"color\":\"#2a3f5f\"},\"error_y\":{\"color\":\"#2a3f5f\"},\"marker\":{\"line\":{\"color\":\"#E5ECF6\",\"width\":0.5},\"pattern\":{\"fillmode\":\"overlay\",\"size\":10,\"solidity\":0.2}},\"type\":\"bar\"}],\"scattergeo\":[{\"type\":\"scattergeo\",\"marker\":{\"colorbar\":{\"outlinewidth\":0,\"ticks\":\"\"}}}],\"scatterpolar\":[{\"type\":\"scatterpolar\",\"marker\":{\"colorbar\":{\"outlinewidth\":0,\"ticks\":\"\"}}}],\"histogram\":[{\"marker\":{\"pattern\":{\"fillmode\":\"overlay\",\"size\":10,\"solidity\":0.2}},\"type\":\"histogram\"}],\"scattergl\":[{\"type\":\"scattergl\",\"marker\":{\"colorbar\":{\"outlinewidth\":0,\"ticks\":\"\"}}}],\"scatter3d\":[{\"type\":\"scatter3d\",\"line\":{\"colorbar\":{\"outlinewidth\":0,\"ticks\":\"\"}},\"marker\":{\"colorbar\":{\"outlinewidth\":0,\"ticks\":\"\"}}}],\"scattermapbox\":[{\"type\":\"scattermapbox\",\"marker\":{\"colorbar\":{\"outlinewidth\":0,\"ticks\":\"\"}}}],\"scatterternary\":[{\"type\":\"scatterternary\",\"marker\":{\"colorbar\":{\"outlinewidth\":0,\"ticks\":\"\"}}}],\"scattercarpet\":[{\"type\":\"scattercarpet\",\"marker\":{\"colorbar\":{\"outlinewidth\":0,\"ticks\":\"\"}}}],\"carpet\":[{\"aaxis\":{\"endlinecolor\":\"#2a3f5f\",\"gridcolor\":\"white\",\"linecolor\":\"white\",\"minorgridcolor\":\"white\",\"startlinecolor\":\"#2a3f5f\"},\"baxis\":{\"endlinecolor\":\"#2a3f5f\",\"gridcolor\":\"white\",\"linecolor\":\"white\",\"minorgridcolor\":\"white\",\"startlinecolor\":\"#2a3f5f\"},\"type\":\"carpet\"}],\"table\":[{\"cells\":{\"fill\":{\"color\":\"#EBF0F8\"},\"line\":{\"color\":\"white\"}},\"header\":{\"fill\":{\"color\":\"#C8D4E3\"},\"line\":{\"color\":\"white\"}},\"type\":\"table\"}],\"barpolar\":[{\"marker\":{\"line\":{\"color\":\"#E5ECF6\",\"width\":0.5},\"pattern\":{\"fillmode\":\"overlay\",\"size\":10,\"solidity\":0.2}},\"type\":\"barpolar\"}],\"pie\":[{\"automargin\":true,\"type\":\"pie\"}]},\"layout\":{\"autotypenumbers\":\"strict\",\"colorway\":[\"#636efa\",\"#EF553B\",\"#00cc96\",\"#ab63fa\",\"#FFA15A\",\"#19d3f3\",\"#FF6692\",\"#B6E880\",\"#FF97FF\",\"#FECB52\"],\"font\":{\"color\":\"#2a3f5f\"},\"hovermode\":\"closest\",\"hoverlabel\":{\"align\":\"left\"},\"paper_bgcolor\":\"white\",\"plot_bgcolor\":\"#E5ECF6\",\"polar\":{\"bgcolor\":\"#E5ECF6\",\"angularaxis\":{\"gridcolor\":\"white\",\"linecolor\":\"white\",\"ticks\":\"\"},\"radialaxis\":{\"gridcolor\":\"white\",\"linecolor\":\"white\",\"ticks\":\"\"}},\"ternary\":{\"bgcolor\":\"#E5ECF6\",\"aaxis\":{\"gridcolor\":\"white\",\"linecolor\":\"white\",\"ticks\":\"\"},\"baxis\":{\"gridcolor\":\"white\",\"linecolor\":\"white\",\"ticks\":\"\"},\"caxis\":{\"gridcolor\":\"white\",\"linecolor\":\"white\",\"ticks\":\"\"}},\"coloraxis\":{\"colorbar\":{\"outlinewidth\":0,\"ticks\":\"\"}},\"colorscale\":{\"sequential\":[[0.0,\"#0d0887\"],[0.1111111111111111,\"#46039f\"],[0.2222222222222222,\"#7201a8\"],[0.3333333333333333,\"#9c179e\"],[0.4444444444444444,\"#bd3786\"],[0.5555555555555556,\"#d8576b\"],[0.6666666666666666,\"#ed7953\"],[0.7777777777777778,\"#fb9f3a\"],[0.8888888888888888,\"#fdca26\"],[1.0,\"#f0f921\"]],\"sequentialminus\":[[0.0,\"#0d0887\"],[0.1111111111111111,\"#46039f\"],[0.2222222222222222,\"#7201a8\"],[0.3333333333333333,\"#9c179e\"],[0.4444444444444444,\"#bd3786\"],[0.5555555555555556,\"#d8576b\"],[0.6666666666666666,\"#ed7953\"],[0.7777777777777778,\"#fb9f3a\"],[0.8888888888888888,\"#fdca26\"],[1.0,\"#f0f921\"]],\"diverging\":[[0,\"#8e0152\"],[0.1,\"#c51b7d\"],[0.2,\"#de77ae\"],[0.3,\"#f1b6da\"],[0.4,\"#fde0ef\"],[0.5,\"#f7f7f7\"],[0.6,\"#e6f5d0\"],[0.7,\"#b8e186\"],[0.8,\"#7fbc41\"],[0.9,\"#4d9221\"],[1,\"#276419\"]]},\"xaxis\":{\"gridcolor\":\"white\",\"linecolor\":\"white\",\"ticks\":\"\",\"title\":{\"standoff\":15},\"zerolinecolor\":\"white\",\"automargin\":true,\"zerolinewidth\":2},\"yaxis\":{\"gridcolor\":\"white\",\"linecolor\":\"white\",\"ticks\":\"\",\"title\":{\"standoff\":15},\"zerolinecolor\":\"white\",\"automargin\":true,\"zerolinewidth\":2},\"scene\":{\"xaxis\":{\"backgroundcolor\":\"#E5ECF6\",\"gridcolor\":\"white\",\"linecolor\":\"white\",\"showbackground\":true,\"ticks\":\"\",\"zerolinecolor\":\"white\",\"gridwidth\":2},\"yaxis\":{\"backgroundcolor\":\"#E5ECF6\",\"gridcolor\":\"white\",\"linecolor\":\"white\",\"showbackground\":true,\"ticks\":\"\",\"zerolinecolor\":\"white\",\"gridwidth\":2},\"zaxis\":{\"backgroundcolor\":\"#E5ECF6\",\"gridcolor\":\"white\",\"linecolor\":\"white\",\"showbackground\":true,\"ticks\":\"\",\"zerolinecolor\":\"white\",\"gridwidth\":2}},\"shapedefaults\":{\"line\":{\"color\":\"#2a3f5f\"}},\"annotationdefaults\":{\"arrowcolor\":\"#2a3f5f\",\"arrowhead\":0,\"arrowwidth\":1},\"geo\":{\"bgcolor\":\"white\",\"landcolor\":\"#E5ECF6\",\"subunitcolor\":\"white\",\"showland\":true,\"showlakes\":true,\"lakecolor\":\"white\"},\"title\":{\"x\":0.05},\"mapbox\":{\"style\":\"light\"}}},\"coloraxis\":{\"colorbar\":{\"title\":{\"text\":\"\\u00d6SSZESEN\"}},\"colorscale\":[[0.0,\"#0d0887\"],[0.1111111111111111,\"#46039f\"],[0.2222222222222222,\"#7201a8\"],[0.3333333333333333,\"#9c179e\"],[0.4444444444444444,\"#bd3786\"],[0.5555555555555556,\"#d8576b\"],[0.6666666666666666,\"#ed7953\"],[0.7777777777777778,\"#fb9f3a\"],[0.8888888888888888,\"#fdca26\"],[1.0,\"#f0f921\"]]},\"legend\":{\"tracegroupgap\":0},\"title\":{\"text\":\"Parhuzamos Kordinatak csapat teljesitmenyre\"}},                        {\"responsive\": true}                    ).then(function(){\n",
              "                            \n",
              "var gd = document.getElementById('cdd089ef-6aba-4201-8e15-62a7a1d0cd12');\n",
              "var x = new MutationObserver(function (mutations, observer) {{\n",
              "        var display = window.getComputedStyle(gd).display;\n",
              "        if (!display || display === 'none') {{\n",
              "            console.log([gd, 'removed!']);\n",
              "            Plotly.purge(gd);\n",
              "            observer.disconnect();\n",
              "        }}\n",
              "}});\n",
              "\n",
              "// Listen for the removal of the full notebook cells\n",
              "var notebookContainer = gd.closest('#notebook-container');\n",
              "if (notebookContainer) {{\n",
              "    x.observe(notebookContainer, {childList: true});\n",
              "}}\n",
              "\n",
              "// Listen for the clearing of the current output cell\n",
              "var outputEl = gd.closest('.output');\n",
              "if (outputEl) {{\n",
              "    x.observe(outputEl, {childList: true});\n",
              "}}\n",
              "\n",
              "                        })                };                            </script>        </div>\n",
              "</body>\n",
              "</html>"
            ]
          },
          "metadata": {}
        }
      ]
    }
  ],
  "metadata": {
    "colab": {
      "provenance": [],
      "include_colab_link": true
    },
    "kernelspec": {
      "display_name": "Python 3",
      "name": "python3"
    },
    "language_info": {
      "codemirror_mode": {
        "name": "ipython",
        "version": 3
      },
      "file_extension": ".py",
      "mimetype": "text/x-python",
      "name": "python",
      "nbconvert_exporter": "python",
      "pygments_lexer": "ipython3",
      "version": "3.7.7"
    }
  },
  "nbformat": 4,
  "nbformat_minor": 0
}